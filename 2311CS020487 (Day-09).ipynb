{
 "cells": [
  {
   "cell_type": "markdown",
   "metadata": {},
   "source": [
    "##  DAY-09"
   ]
  },
  {
   "cell_type": "code",
   "execution_count": 1,
   "metadata": {},
   "outputs": [],
   "source": [
    "import numpy as np"
   ]
  },
  {
   "cell_type": "code",
   "execution_count": 2,
   "metadata": {},
   "outputs": [
    {
     "data": {
      "text/plain": [
       "list"
      ]
     },
     "execution_count": 2,
     "metadata": {},
     "output_type": "execute_result"
    }
   ],
   "source": [
    "j=[4,6,2,8,9]\n",
    "type(j)"
   ]
  },
  {
   "cell_type": "raw",
   "metadata": {},
   "source": [
    "   LIBRARY                    FUNCTIONS\n",
    "   \n",
    "1) numpy                     Array Operations\n",
    "2) pandas                    Datamanipulation and Analysis\n",
    "3) matplotlib and Seaborn    Graphical Analysis\n",
    "4) sklearn                   Machine Learning Algorithms and Techniques\n",
    "5) statsmodels               Statastical Analysis \n",
    "6) scipy                     Statastical Analysis"
   ]
  },
  {
   "cell_type": "code",
   "execution_count": 3,
   "metadata": {},
   "outputs": [
    {
     "data": {
      "text/plain": [
       "array([4, 6, 2, 8, 9])"
      ]
     },
     "execution_count": 3,
     "metadata": {},
     "output_type": "execute_result"
    }
   ],
   "source": [
    "np.array(j)  #converts the list into an array"
   ]
  },
  {
   "cell_type": "code",
   "execution_count": 4,
   "metadata": {},
   "outputs": [
    {
     "data": {
      "text/plain": [
       "(4, 6, 2, 8, 9)"
      ]
     },
     "execution_count": 4,
     "metadata": {},
     "output_type": "execute_result"
    }
   ],
   "source": [
    "tuple(j)  #Directly converts to a tuple"
   ]
  },
  {
   "cell_type": "code",
   "execution_count": 5,
   "metadata": {},
   "outputs": [],
   "source": [
    "n=[4,8,4,5,7,5,4]\n",
    "d=np.array(n)"
   ]
  },
  {
   "cell_type": "code",
   "execution_count": 6,
   "metadata": {},
   "outputs": [
    {
     "data": {
      "text/plain": [
       "numpy.ndarray"
      ]
     },
     "execution_count": 6,
     "metadata": {},
     "output_type": "execute_result"
    }
   ],
   "source": [
    "type(d) #SHows the type of a array"
   ]
  },
  {
   "cell_type": "code",
   "execution_count": 7,
   "metadata": {},
   "outputs": [
    {
     "data": {
      "text/plain": [
       "array([4, 8, 4, 5, 7, 5, 4])"
      ]
     },
     "execution_count": 7,
     "metadata": {},
     "output_type": "execute_result"
    }
   ],
   "source": [
    "d"
   ]
  },
  {
   "cell_type": "code",
   "execution_count": 8,
   "metadata": {},
   "outputs": [
    {
     "data": {
      "text/plain": [
       "(7,)"
      ]
     },
     "execution_count": 8,
     "metadata": {},
     "output_type": "execute_result"
    }
   ],
   "source": [
    "d.shape"
   ]
  },
  {
   "cell_type": "code",
   "execution_count": 9,
   "metadata": {},
   "outputs": [
    {
     "data": {
      "text/plain": [
       "[4, 8, 4, 5, 7, 5, 4]"
      ]
     },
     "execution_count": 9,
     "metadata": {},
     "output_type": "execute_result"
    }
   ],
   "source": [
    "n"
   ]
  },
  {
   "cell_type": "code",
   "execution_count": 10,
   "metadata": {},
   "outputs": [
    {
     "ename": "AttributeError",
     "evalue": "'list' object has no attribute 'shape'",
     "output_type": "error",
     "traceback": [
      "\u001b[1;31m---------------------------------------------------------------------------\u001b[0m",
      "\u001b[1;31mAttributeError\u001b[0m                            Traceback (most recent call last)",
      "Cell \u001b[1;32mIn[10], line 1\u001b[0m\n\u001b[1;32m----> 1\u001b[0m n\u001b[38;5;241m.\u001b[39mshape\n",
      "\u001b[1;31mAttributeError\u001b[0m: 'list' object has no attribute 'shape'"
     ]
    }
   ],
   "source": [
    "n.shape  #List does not have any shape attribute"
   ]
  },
  {
   "cell_type": "code",
   "execution_count": 11,
   "metadata": {},
   "outputs": [
    {
     "data": {
      "text/plain": [
       "(7,)"
      ]
     },
     "execution_count": 11,
     "metadata": {},
     "output_type": "execute_result"
    }
   ],
   "source": [
    "d.shape #Indicates the  number of elements int the list"
   ]
  },
  {
   "cell_type": "code",
   "execution_count": 12,
   "metadata": {},
   "outputs": [
    {
     "data": {
      "text/plain": [
       "1"
      ]
     },
     "execution_count": 12,
     "metadata": {},
     "output_type": "execute_result"
    }
   ],
   "source": [
    "d.ndim  #Indicates the dimension of list"
   ]
  },
  {
   "cell_type": "code",
   "execution_count": 13,
   "metadata": {},
   "outputs": [
    {
     "data": {
      "text/plain": [
       "7"
      ]
     },
     "execution_count": 13,
     "metadata": {},
     "output_type": "execute_result"
    }
   ],
   "source": [
    "d.size  #Indicates the size of list"
   ]
  },
  {
   "cell_type": "code",
   "execution_count": 14,
   "metadata": {},
   "outputs": [
    {
     "data": {
      "text/plain": [
       "[[4, 8, 4, 5, 7, 5, 4],\n",
       " [74, 88, 74, 45, 7, 15, 64],\n",
       " [48, 88, 48, 57, 27, 15, 44],\n",
       " [94, 68, 44, 65, 27, 25, 34]]"
      ]
     },
     "execution_count": 14,
     "metadata": {},
     "output_type": "execute_result"
    }
   ],
   "source": [
    "s=[[4, 8, 4, 5, 7, 5, 4],[74, 88, 74, 45, 7, 15, 64],[48, 88, 48, 57, 27, 15, 44],[94, 68, 44, 65, 27, 25, 34]]\n",
    "s"
   ]
  },
  {
   "cell_type": "code",
   "execution_count": 15,
   "metadata": {},
   "outputs": [
    {
     "data": {
      "text/plain": [
       "list"
      ]
     },
     "execution_count": 15,
     "metadata": {},
     "output_type": "execute_result"
    }
   ],
   "source": [
    "type(s)"
   ]
  },
  {
   "cell_type": "code",
   "execution_count": 16,
   "metadata": {},
   "outputs": [
    {
     "data": {
      "text/plain": [
       "array([[ 4,  8,  4,  5,  7,  5,  4],\n",
       "       [74, 88, 74, 45,  7, 15, 64],\n",
       "       [48, 88, 48, 57, 27, 15, 44],\n",
       "       [94, 68, 44, 65, 27, 25, 34]])"
      ]
     },
     "execution_count": 16,
     "metadata": {},
     "output_type": "execute_result"
    }
   ],
   "source": [
    "arr1=np.array(s)\n",
    "arr1"
   ]
  },
  {
   "cell_type": "code",
   "execution_count": 17,
   "metadata": {},
   "outputs": [
    {
     "data": {
      "text/plain": [
       "(4, 7)"
      ]
     },
     "execution_count": 17,
     "metadata": {},
     "output_type": "execute_result"
    }
   ],
   "source": [
    "arr1.shape      # 4-rows and 7-columns"
   ]
  },
  {
   "cell_type": "code",
   "execution_count": 18,
   "metadata": {},
   "outputs": [
    {
     "data": {
      "text/plain": [
       "28"
      ]
     },
     "execution_count": 18,
     "metadata": {},
     "output_type": "execute_result"
    }
   ],
   "source": [
    "arr1.size"
   ]
  },
  {
   "cell_type": "code",
   "execution_count": 19,
   "metadata": {},
   "outputs": [
    {
     "data": {
      "text/plain": [
       "2"
      ]
     },
     "execution_count": 19,
     "metadata": {},
     "output_type": "execute_result"
    }
   ],
   "source": [
    "arr1.ndim"
   ]
  },
  {
   "cell_type": "code",
   "execution_count": 20,
   "metadata": {},
   "outputs": [
    {
     "data": {
      "text/plain": [
       "<function ndarray.reshape>"
      ]
     },
     "execution_count": 20,
     "metadata": {},
     "output_type": "execute_result"
    }
   ],
   "source": [
    "arr1.reshape"
   ]
  },
  {
   "cell_type": "code",
   "execution_count": 21,
   "metadata": {},
   "outputs": [
    {
     "data": {
      "text/plain": [
       "array([[ 4,  8,  4,  5],\n",
       "       [ 7,  5,  4, 74],\n",
       "       [88, 74, 45,  7],\n",
       "       [15, 64, 48, 88],\n",
       "       [48, 57, 27, 15],\n",
       "       [44, 94, 68, 44],\n",
       "       [65, 27, 25, 34]])"
      ]
     },
     "execution_count": 21,
     "metadata": {},
     "output_type": "execute_result"
    }
   ],
   "source": [
    "arr1.reshape(7,4)"
   ]
  },
  {
   "cell_type": "code",
   "execution_count": 22,
   "metadata": {},
   "outputs": [
    {
     "data": {
      "text/plain": [
       "(4, 7)"
      ]
     },
     "execution_count": 22,
     "metadata": {},
     "output_type": "execute_result"
    }
   ],
   "source": [
    "arr1.shape"
   ]
  },
  {
   "cell_type": "code",
   "execution_count": 23,
   "metadata": {},
   "outputs": [
    {
     "data": {
      "text/plain": [
       "28"
      ]
     },
     "execution_count": 23,
     "metadata": {},
     "output_type": "execute_result"
    }
   ],
   "source": [
    "arr1.size"
   ]
  },
  {
   "cell_type": "code",
   "execution_count": 24,
   "metadata": {},
   "outputs": [
    {
     "data": {
      "text/plain": [
       "2"
      ]
     },
     "execution_count": 24,
     "metadata": {},
     "output_type": "execute_result"
    }
   ],
   "source": [
    "arr1.ndim"
   ]
  },
  {
   "cell_type": "code",
   "execution_count": 25,
   "metadata": {},
   "outputs": [
    {
     "data": {
      "text/plain": [
       "array([4, 8, 4, 5, 7, 5, 4])"
      ]
     },
     "execution_count": 25,
     "metadata": {},
     "output_type": "execute_result"
    }
   ],
   "source": [
    "d"
   ]
  },
  {
   "cell_type": "code",
   "execution_count": 26,
   "metadata": {},
   "outputs": [
    {
     "data": {
      "text/plain": [
       "1"
      ]
     },
     "execution_count": 26,
     "metadata": {},
     "output_type": "execute_result"
    }
   ],
   "source": [
    "d.ndim"
   ]
  },
  {
   "cell_type": "code",
   "execution_count": 27,
   "metadata": {},
   "outputs": [
    {
     "data": {
      "text/plain": [
       "(7,)"
      ]
     },
     "execution_count": 27,
     "metadata": {},
     "output_type": "execute_result"
    }
   ],
   "source": [
    "d.shape"
   ]
  },
  {
   "cell_type": "code",
   "execution_count": 28,
   "metadata": {},
   "outputs": [
    {
     "data": {
      "text/plain": [
       "7"
      ]
     },
     "execution_count": 28,
     "metadata": {},
     "output_type": "execute_result"
    }
   ],
   "source": [
    "d.size"
   ]
  },
  {
   "cell_type": "code",
   "execution_count": 29,
   "metadata": {},
   "outputs": [
    {
     "data": {
      "text/plain": [
       "array([[ 4,  8,  4,  5,  7,  5,  4],\n",
       "       [74, 88, 74, 45,  7, 15, 64],\n",
       "       [48, 88, 48, 57, 27, 15, 44],\n",
       "       [94, 68, 44, 65, 27, 25, 34]])"
      ]
     },
     "execution_count": 29,
     "metadata": {},
     "output_type": "execute_result"
    }
   ],
   "source": [
    "arr1"
   ]
  },
  {
   "cell_type": "code",
   "execution_count": 30,
   "metadata": {},
   "outputs": [
    {
     "data": {
      "text/plain": [
       "2"
      ]
     },
     "execution_count": 30,
     "metadata": {},
     "output_type": "execute_result"
    }
   ],
   "source": [
    "arr1.ndim"
   ]
  },
  {
   "cell_type": "code",
   "execution_count": 31,
   "metadata": {},
   "outputs": [
    {
     "data": {
      "text/plain": [
       "array([[ 4,  8,  4,  5],\n",
       "       [ 7,  5,  4, 74],\n",
       "       [88, 74, 45,  7],\n",
       "       [15, 64, 48, 88],\n",
       "       [48, 57, 27, 15],\n",
       "       [44, 94, 68, 44],\n",
       "       [65, 27, 25, 34]])"
      ]
     },
     "execution_count": 31,
     "metadata": {},
     "output_type": "execute_result"
    }
   ],
   "source": [
    "arr1.reshape(7,4)"
   ]
  },
  {
   "cell_type": "code",
   "execution_count": 32,
   "metadata": {},
   "outputs": [
    {
     "data": {
      "text/plain": [
       "array([[ 4,  8,  4,  5],\n",
       "       [ 7,  5,  4, 74],\n",
       "       [88, 74, 45,  7],\n",
       "       [15, 64, 48, 88],\n",
       "       [48, 57, 27, 15],\n",
       "       [44, 94, 68, 44],\n",
       "       [65, 27, 25, 34]])"
      ]
     },
     "execution_count": 32,
     "metadata": {},
     "output_type": "execute_result"
    }
   ],
   "source": [
    "arr1.reshape(7,4)"
   ]
  },
  {
   "cell_type": "code",
   "execution_count": 33,
   "metadata": {},
   "outputs": [],
   "source": [
    "arr=[[4,5,6,7,8],[1,2,3,4,5],[7,8,9,4,15],[7,8,9,4,5],[1,2,3,4,5]]"
   ]
  },
  {
   "cell_type": "code",
   "execution_count": 34,
   "metadata": {},
   "outputs": [
    {
     "data": {
      "text/plain": [
       "array([[ 4,  5,  6,  7,  8],\n",
       "       [ 1,  2,  3,  4,  5],\n",
       "       [ 7,  8,  9,  4, 15],\n",
       "       [ 7,  8,  9,  4,  5],\n",
       "       [ 1,  2,  3,  4,  5]])"
      ]
     },
     "execution_count": 34,
     "metadata": {},
     "output_type": "execute_result"
    }
   ],
   "source": [
    "k=np.array(arr)\n",
    "k"
   ]
  },
  {
   "cell_type": "code",
   "execution_count": 35,
   "metadata": {},
   "outputs": [
    {
     "data": {
      "text/plain": [
       "(5, 5)"
      ]
     },
     "execution_count": 35,
     "metadata": {},
     "output_type": "execute_result"
    }
   ],
   "source": [
    "k.shape"
   ]
  },
  {
   "cell_type": "code",
   "execution_count": 36,
   "metadata": {},
   "outputs": [
    {
     "data": {
      "text/plain": [
       "25"
      ]
     },
     "execution_count": 36,
     "metadata": {},
     "output_type": "execute_result"
    }
   ],
   "source": [
    "k.size"
   ]
  },
  {
   "cell_type": "code",
   "execution_count": 37,
   "metadata": {},
   "outputs": [
    {
     "data": {
      "text/plain": [
       "array([[[ 4,  5,  6,  7,  8]],\n",
       "\n",
       "       [[ 1,  2,  3,  4,  5]],\n",
       "\n",
       "       [[ 7,  8,  9,  4, 15]],\n",
       "\n",
       "       [[ 7,  8,  9,  4,  5]],\n",
       "\n",
       "       [[ 1,  2,  3,  4,  5]]])"
      ]
     },
     "execution_count": 37,
     "metadata": {},
     "output_type": "execute_result"
    }
   ],
   "source": [
    "k.reshape(5,1,5)"
   ]
  },
  {
   "cell_type": "code",
   "execution_count": 38,
   "metadata": {},
   "outputs": [
    {
     "data": {
      "text/plain": [
       "2"
      ]
     },
     "execution_count": 38,
     "metadata": {},
     "output_type": "execute_result"
    }
   ],
   "source": [
    "k.ndim"
   ]
  },
  {
   "cell_type": "code",
   "execution_count": 39,
   "metadata": {},
   "outputs": [
    {
     "data": {
      "text/plain": [
       "25"
      ]
     },
     "execution_count": 39,
     "metadata": {},
     "output_type": "execute_result"
    }
   ],
   "source": [
    "k.size"
   ]
  },
  {
   "cell_type": "code",
   "execution_count": 40,
   "metadata": {},
   "outputs": [
    {
     "data": {
      "text/plain": [
       "array([[ 4,  8,  4,  5,  7,  5,  4],\n",
       "       [74, 88, 74, 45,  7, 15, 64],\n",
       "       [48, 88, 48, 57, 27, 15, 44],\n",
       "       [94, 68, 44, 65, 27, 25, 34]])"
      ]
     },
     "execution_count": 40,
     "metadata": {},
     "output_type": "execute_result"
    }
   ],
   "source": [
    "arr1"
   ]
  },
  {
   "cell_type": "code",
   "execution_count": 41,
   "metadata": {},
   "outputs": [
    {
     "data": {
      "text/plain": [
       "array([[[[[ 4]],\n",
       "\n",
       "         [[ 8]]],\n",
       "\n",
       "\n",
       "        [[[ 4]],\n",
       "\n",
       "         [[ 5]]]],\n",
       "\n",
       "\n",
       "\n",
       "       [[[[ 7]],\n",
       "\n",
       "         [[ 5]]],\n",
       "\n",
       "\n",
       "        [[[ 4]],\n",
       "\n",
       "         [[74]]]],\n",
       "\n",
       "\n",
       "\n",
       "       [[[[88]],\n",
       "\n",
       "         [[74]]],\n",
       "\n",
       "\n",
       "        [[[45]],\n",
       "\n",
       "         [[ 7]]]],\n",
       "\n",
       "\n",
       "\n",
       "       [[[[15]],\n",
       "\n",
       "         [[64]]],\n",
       "\n",
       "\n",
       "        [[[48]],\n",
       "\n",
       "         [[88]]]],\n",
       "\n",
       "\n",
       "\n",
       "       [[[[48]],\n",
       "\n",
       "         [[57]]],\n",
       "\n",
       "\n",
       "        [[[27]],\n",
       "\n",
       "         [[15]]]],\n",
       "\n",
       "\n",
       "\n",
       "       [[[[44]],\n",
       "\n",
       "         [[94]]],\n",
       "\n",
       "\n",
       "        [[[68]],\n",
       "\n",
       "         [[44]]]],\n",
       "\n",
       "\n",
       "\n",
       "       [[[[65]],\n",
       "\n",
       "         [[27]]],\n",
       "\n",
       "\n",
       "        [[[25]],\n",
       "\n",
       "         [[34]]]]])"
      ]
     },
     "execution_count": 41,
     "metadata": {},
     "output_type": "execute_result"
    }
   ],
   "source": [
    "arr1.reshape(7,2,2,1,1)"
   ]
  },
  {
   "cell_type": "code",
   "execution_count": 42,
   "metadata": {},
   "outputs": [
    {
     "data": {
      "text/plain": [
       "range(5, 20)"
      ]
     },
     "execution_count": 42,
     "metadata": {},
     "output_type": "execute_result"
    }
   ],
   "source": [
    "range(5,20)"
   ]
  },
  {
   "cell_type": "code",
   "execution_count": 43,
   "metadata": {},
   "outputs": [
    {
     "data": {
      "text/plain": [
       "[3, 4, 5, 6, 7, 10, 11, 14, 15]"
      ]
     },
     "execution_count": 43,
     "metadata": {},
     "output_type": "execute_result"
    }
   ],
   "source": [
    "m=[3,4,5,6,7,10,11,14,15]\n",
    "m"
   ]
  },
  {
   "cell_type": "code",
   "execution_count": 44,
   "metadata": {},
   "outputs": [
    {
     "data": {
      "text/plain": [
       "[3, 4, 5, 6, 7, 8, 9, 10, 11, 12]"
      ]
     },
     "execution_count": 44,
     "metadata": {},
     "output_type": "execute_result"
    }
   ],
   "source": [
    "list(range(3,13))   #Displays the size and elements in that particular list      "
   ]
  },
  {
   "cell_type": "code",
   "execution_count": 45,
   "metadata": {},
   "outputs": [
    {
     "data": {
      "text/plain": [
       "[3, 5, 7, 9, 11, 13, 15, 17]"
      ]
     },
     "execution_count": 45,
     "metadata": {},
     "output_type": "execute_result"
    }
   ],
   "source": [
    "list(range(3,19,2)) #(start,end,step_size)"
   ]
  },
  {
   "cell_type": "code",
   "execution_count": 46,
   "metadata": {},
   "outputs": [
    {
     "data": {
      "text/plain": [
       "[0, 100, 200, 300, 400, 500, 600, 700, 800, 900, 1000, 1100, 1200]"
      ]
     },
     "execution_count": 46,
     "metadata": {},
     "output_type": "execute_result"
    }
   ],
   "source": [
    "list(range(0,1300,100))"
   ]
  },
  {
   "cell_type": "code",
   "execution_count": 47,
   "metadata": {},
   "outputs": [],
   "source": [
    "m=range(-10,1,1)"
   ]
  },
  {
   "cell_type": "code",
   "execution_count": 48,
   "metadata": {},
   "outputs": [
    {
     "data": {
      "text/plain": [
       "[-10, -9, -8, -7, -6, -5, -4, -3, -2, -1, 0]"
      ]
     },
     "execution_count": 48,
     "metadata": {},
     "output_type": "execute_result"
    }
   ],
   "source": [
    "list(m)"
   ]
  },
  {
   "cell_type": "code",
   "execution_count": 49,
   "metadata": {},
   "outputs": [
    {
     "data": {
      "text/plain": [
       "[-1, -2, -3, -4, -5, -6, -7, -8, -9]"
      ]
     },
     "execution_count": 49,
     "metadata": {},
     "output_type": "execute_result"
    }
   ],
   "source": [
    "list(range(-1,-10,-1))"
   ]
  },
  {
   "cell_type": "code",
   "execution_count": 50,
   "metadata": {},
   "outputs": [
    {
     "data": {
      "text/plain": [
       "[-1, -3, -5, -7, -9]"
      ]
     },
     "execution_count": 50,
     "metadata": {},
     "output_type": "execute_result"
    }
   ],
   "source": [
    "list(range(-1,-10,-2))"
   ]
  },
  {
   "cell_type": "code",
   "execution_count": 51,
   "metadata": {},
   "outputs": [
    {
     "data": {
      "text/plain": [
       "[10, 8, 6, 4, 2, 0, -2, -4, -6, -8]"
      ]
     },
     "execution_count": 51,
     "metadata": {},
     "output_type": "execute_result"
    }
   ],
   "source": [
    "list(range(10,-10,-2))"
   ]
  },
  {
   "cell_type": "code",
   "execution_count": 52,
   "metadata": {},
   "outputs": [],
   "source": [
    "#Draw back of the range function is it could not work for float values"
   ]
  },
  {
   "cell_type": "code",
   "execution_count": 53,
   "metadata": {},
   "outputs": [
    {
     "ename": "TypeError",
     "evalue": "'float' object cannot be interpreted as an integer",
     "output_type": "error",
     "traceback": [
      "\u001b[1;31m---------------------------------------------------------------------------\u001b[0m",
      "\u001b[1;31mTypeError\u001b[0m                                 Traceback (most recent call last)",
      "Cell \u001b[1;32mIn[53], line 1\u001b[0m\n\u001b[1;32m----> 1\u001b[0m \u001b[38;5;28mlist\u001b[39m(\u001b[38;5;28mrange\u001b[39m(\u001b[38;5;241m-\u001b[39m\u001b[38;5;241m1.5\u001b[39m,\u001b[38;5;241m10\u001b[39m,\u001b[38;5;241m-\u001b[39m\u001b[38;5;241m1\u001b[39m))\n",
      "\u001b[1;31mTypeError\u001b[0m: 'float' object cannot be interpreted as an integer"
     ]
    }
   ],
   "source": [
    "list(range(-1.5,10,-1))"
   ]
  },
  {
   "cell_type": "code",
   "execution_count": 54,
   "metadata": {},
   "outputs": [
    {
     "data": {
      "text/plain": [
       "[8.5, 6, 2.3, 5.6, 1.0, 2.0, 8]"
      ]
     },
     "execution_count": 54,
     "metadata": {},
     "output_type": "execute_result"
    }
   ],
   "source": [
    "[8.5,6,2.3,5.6,1.0,2.0,8]\n"
   ]
  },
  {
   "cell_type": "code",
   "execution_count": 55,
   "metadata": {},
   "outputs": [
    {
     "data": {
      "text/plain": [
       "range(5, 50, 5)"
      ]
     },
     "execution_count": 55,
     "metadata": {},
     "output_type": "execute_result"
    }
   ],
   "source": [
    "range(5,50,5)"
   ]
  },
  {
   "cell_type": "code",
   "execution_count": 56,
   "metadata": {},
   "outputs": [
    {
     "name": "stdout",
     "output_type": "stream",
     "text": [
      "Data 5\n",
      "Data 10\n",
      "Data 15\n",
      "Data 20\n",
      "Data 25\n",
      "Data 30\n",
      "Data 35\n",
      "Data 40\n",
      "Data 45\n"
     ]
    }
   ],
   "source": [
    "for i in range(5,50,5):\n",
    "    print(\"Data\",i)"
   ]
  },
  {
   "cell_type": "code",
   "execution_count": 57,
   "metadata": {},
   "outputs": [
    {
     "data": {
      "text/plain": [
       "[5, 87, 52, 3, 21, 41, 65, 54, 1, 8]"
      ]
     },
     "execution_count": 57,
     "metadata": {},
     "output_type": "execute_result"
    }
   ],
   "source": [
    "j=[5,87,52,3,21,41,65,54,1,8]\n",
    "j"
   ]
  },
  {
   "cell_type": "code",
   "execution_count": 58,
   "metadata": {},
   "outputs": [
    {
     "name": "stdout",
     "output_type": "stream",
     "text": [
      "Even position Numbers: [5, 52, 21, 65, 1]\n",
      "Odd position Numbers: [87, 3, 41, 54, 8]\n"
     ]
    }
   ],
   "source": [
    "#This is the program to separate elements based on position if pos is odd go in odd list if even go to the even list\n",
    "\n",
    "even_pos=[]\n",
    "odd_pos=[]\n",
    "for i in range(len(j)):\n",
    "    if i%2==0:\n",
    "        even_pos.append(j[i])\n",
    "    else:\n",
    "        odd_pos.append(j[i])\n",
    "        \n",
    "\n",
    "print(\"Even position Numbers:\",even_pos)\n",
    "print(\"Odd position Numbers:\",odd_pos)"
   ]
  },
  {
   "cell_type": "markdown",
   "metadata": {},
   "source": [
    "# DISTRIBUTION"
   ]
  },
  {
   "cell_type": "code",
   "execution_count": 59,
   "metadata": {},
   "outputs": [],
   "source": [
    "import numpy as np"
   ]
  },
  {
   "cell_type": "code",
   "execution_count": 60,
   "metadata": {},
   "outputs": [
    {
     "data": {
      "text/plain": [
       "[5, 87, 52, 3, 21, 41, 65, 54, 1, 8]"
      ]
     },
     "execution_count": 60,
     "metadata": {},
     "output_type": "execute_result"
    }
   ],
   "source": [
    "j"
   ]
  },
  {
   "cell_type": "code",
   "execution_count": 61,
   "metadata": {},
   "outputs": [
    {
     "data": {
      "text/plain": [
       "array([ 5, 87, 52,  3, 21, 41, 65, 54,  1,  8])"
      ]
     },
     "execution_count": 61,
     "metadata": {},
     "output_type": "execute_result"
    }
   ],
   "source": [
    "k=np.array(j)\n",
    "k"
   ]
  },
  {
   "cell_type": "code",
   "execution_count": 62,
   "metadata": {},
   "outputs": [
    {
     "data": {
      "text/plain": [
       "33.7"
      ]
     },
     "execution_count": 62,
     "metadata": {},
     "output_type": "execute_result"
    }
   ],
   "source": [
    "k.mean()  # use to find the mean"
   ]
  },
  {
   "cell_type": "code",
   "execution_count": 63,
   "metadata": {},
   "outputs": [
    {
     "data": {
      "text/plain": [
       "33.7"
      ]
     },
     "execution_count": 63,
     "metadata": {},
     "output_type": "execute_result"
    }
   ],
   "source": [
    "np.mean(k) #another method to find mean"
   ]
  },
  {
   "cell_type": "code",
   "execution_count": 64,
   "metadata": {},
   "outputs": [
    {
     "data": {
      "text/plain": [
       "31.0"
      ]
     },
     "execution_count": 64,
     "metadata": {},
     "output_type": "execute_result"
    }
   ],
   "source": [
    "np.median(k) #use to find median"
   ]
  },
  {
   "cell_type": "code",
   "execution_count": 65,
   "metadata": {},
   "outputs": [
    {
     "data": {
      "text/plain": [
       "827.8100000000001"
      ]
     },
     "execution_count": 65,
     "metadata": {},
     "output_type": "execute_result"
    }
   ],
   "source": [
    "np.var(k)  #Shows the variance"
   ]
  },
  {
   "cell_type": "code",
   "execution_count": 66,
   "metadata": {},
   "outputs": [
    {
     "data": {
      "text/plain": [
       "1"
      ]
     },
     "execution_count": 66,
     "metadata": {},
     "output_type": "execute_result"
    }
   ],
   "source": [
    "np.min(k)  #Finds the minimum number in the list"
   ]
  },
  {
   "cell_type": "code",
   "execution_count": 67,
   "metadata": {},
   "outputs": [
    {
     "data": {
      "text/plain": [
       "87"
      ]
     },
     "execution_count": 67,
     "metadata": {},
     "output_type": "execute_result"
    }
   ],
   "source": [
    "np.max(k) #Finds the maximum element"
   ]
  },
  {
   "cell_type": "code",
   "execution_count": 68,
   "metadata": {},
   "outputs": [
    {
     "data": {
      "text/plain": [
       "5.75"
      ]
     },
     "execution_count": 68,
     "metadata": {},
     "output_type": "execute_result"
    }
   ],
   "source": [
    "np.quantile(k,0.25) "
   ]
  },
  {
   "cell_type": "code",
   "execution_count": 69,
   "metadata": {},
   "outputs": [
    {
     "data": {
      "text/plain": [
       "0.5419898203023007"
      ]
     },
     "execution_count": 69,
     "metadata": {},
     "output_type": "execute_result"
    }
   ],
   "source": [
    "np.random.rand() #Function used to generate a random value in the limit of 0 to 1"
   ]
  },
  {
   "cell_type": "code",
   "execution_count": 70,
   "metadata": {},
   "outputs": [
    {
     "data": {
      "text/plain": [
       "array([0.3244516 , 0.69346549, 0.98234029, 0.3148783 , 0.63108228,\n",
       "       0.79687159, 0.75148088, 0.48244922, 0.14674786, 0.81550381,\n",
       "       0.95446304, 0.82048828, 0.50752672, 0.6133436 , 0.23392466,\n",
       "       0.03131482, 0.25366377, 0.00699871, 0.21959834, 0.94144096,\n",
       "       0.70943809, 0.07052109, 0.20009631, 0.89073641, 0.3842485 ,\n",
       "       0.99195478, 0.05678245, 0.09827806, 0.18280144, 0.43252442,\n",
       "       0.91075694, 0.15613691, 0.74058662, 0.78491395, 0.38926704,\n",
       "       0.43335946, 0.68986899, 0.46847951, 0.91920461, 0.61789027,\n",
       "       0.15830768, 0.25680956, 0.32075871, 0.02243225, 0.06182657,\n",
       "       0.97106822, 0.96405233, 0.28484984, 0.67403358, 0.0211559 ,\n",
       "       0.67028688, 0.46324242, 0.52020758, 0.64331515, 0.30757258,\n",
       "       0.54252767, 0.1459075 , 0.90224302, 0.28964917, 0.31860694,\n",
       "       0.49041863, 0.70341908, 0.21008164, 0.51590086, 0.94038402,\n",
       "       0.69916174, 0.16979271, 0.1977748 , 0.77393106, 0.00298135,\n",
       "       0.91257162, 0.44440815, 0.58476691, 0.85157389, 0.80070322,\n",
       "       0.99388764, 0.58664991, 0.1895509 , 0.61845673, 0.38083891,\n",
       "       0.3389344 , 0.41617739, 0.47172244, 0.8680455 , 0.74186492,\n",
       "       0.13396565, 0.63004929, 0.14751243, 0.68903763, 0.45573224,\n",
       "       0.57685933, 0.78304716, 0.11958421, 0.39413596, 0.6500143 ,\n",
       "       0.61699575, 0.29272504, 0.49421419, 0.52099898, 0.59689626])"
      ]
     },
     "execution_count": 70,
     "metadata": {},
     "output_type": "execute_result"
    }
   ],
   "source": [
    "r=np.random.rand(100)\n",
    "r"
   ]
  },
  {
   "cell_type": "code",
   "execution_count": 71,
   "metadata": {},
   "outputs": [
    {
     "data": {
      "text/plain": [
       "(100,)"
      ]
     },
     "execution_count": 71,
     "metadata": {},
     "output_type": "execute_result"
    }
   ],
   "source": [
    "r.shape"
   ]
  },
  {
   "cell_type": "code",
   "execution_count": 72,
   "metadata": {},
   "outputs": [
    {
     "data": {
      "text/plain": [
       "100"
      ]
     },
     "execution_count": 72,
     "metadata": {},
     "output_type": "execute_result"
    }
   ],
   "source": [
    "r.size"
   ]
  },
  {
   "cell_type": "code",
   "execution_count": 73,
   "metadata": {},
   "outputs": [
    {
     "data": {
      "text/plain": [
       "1"
      ]
     },
     "execution_count": 73,
     "metadata": {},
     "output_type": "execute_result"
    }
   ],
   "source": [
    "r.ndim"
   ]
  },
  {
   "cell_type": "code",
   "execution_count": 74,
   "metadata": {},
   "outputs": [],
   "source": [
    "m=np.random.rand(5,3) #creates the array in the 2dimension"
   ]
  },
  {
   "cell_type": "code",
   "execution_count": 75,
   "metadata": {},
   "outputs": [
    {
     "data": {
      "text/plain": [
       "array([[0.24219941, 0.30074798, 0.99639072],\n",
       "       [0.55636069, 0.12882245, 0.86286533],\n",
       "       [0.51799751, 0.40993085, 0.17595225],\n",
       "       [0.79188992, 0.85862069, 0.90913074],\n",
       "       [0.20362353, 0.36717311, 0.55545822]])"
      ]
     },
     "execution_count": 75,
     "metadata": {},
     "output_type": "execute_result"
    }
   ],
   "source": [
    "m"
   ]
  },
  {
   "cell_type": "code",
   "execution_count": 76,
   "metadata": {},
   "outputs": [
    {
     "data": {
      "text/plain": [
       "15"
      ]
     },
     "execution_count": 76,
     "metadata": {},
     "output_type": "execute_result"
    }
   ],
   "source": [
    "m.size"
   ]
  },
  {
   "cell_type": "code",
   "execution_count": 77,
   "metadata": {},
   "outputs": [
    {
     "data": {
      "text/plain": [
       "2"
      ]
     },
     "execution_count": 77,
     "metadata": {},
     "output_type": "execute_result"
    }
   ],
   "source": [
    "m.ndim"
   ]
  },
  {
   "cell_type": "code",
   "execution_count": 78,
   "metadata": {},
   "outputs": [
    {
     "data": {
      "text/plain": [
       "(5, 3)"
      ]
     },
     "execution_count": 78,
     "metadata": {},
     "output_type": "execute_result"
    }
   ],
   "source": [
    "m.shape"
   ]
  },
  {
   "cell_type": "markdown",
   "metadata": {},
   "source": [
    "## STANDARD NORMAL DISTRUBUTION"
   ]
  },
  {
   "cell_type": "code",
   "execution_count": 79,
   "metadata": {},
   "outputs": [
    {
     "data": {
      "text/plain": [
       "-2.3246436794160394"
      ]
     },
     "execution_count": 79,
     "metadata": {},
     "output_type": "execute_result"
    }
   ],
   "source": [
    "np.random.randn() #This is the function it is used to create standard normal distrubution random values"
   ]
  },
  {
   "cell_type": "code",
   "execution_count": 80,
   "metadata": {},
   "outputs": [
    {
     "data": {
      "text/plain": [
       "array([[-0.72088059,  0.17836982, -0.77672782, -0.24941229],\n",
       "       [-0.10737888, -0.71041788,  0.15754652, -0.72595483],\n",
       "       [ 0.28549947, -1.23669016, -0.60851174,  0.47059842],\n",
       "       [-1.26954887, -1.03107089, -1.32067165,  0.89479347],\n",
       "       [ 0.92408728,  1.41700109, -0.07795448, -1.75673174],\n",
       "       [-0.30972952, -0.68069816, -0.62776199, -0.19884798],\n",
       "       [ 0.0902426 , -0.41352328, -0.40152465,  0.6063215 ],\n",
       "       [ 0.24698498,  0.66686073, -1.15691552,  0.2550248 ],\n",
       "       [-0.44812145,  2.46564388, -0.71091451,  1.12013726],\n",
       "       [ 0.15579674,  0.24009426,  0.33303606, -0.61562381]])"
      ]
     },
     "execution_count": 80,
     "metadata": {},
     "output_type": "execute_result"
    }
   ],
   "source": [
    "n=np.random.randn(10,4)\n",
    "n"
   ]
  },
  {
   "cell_type": "code",
   "execution_count": 81,
   "metadata": {},
   "outputs": [
    {
     "data": {
      "text/plain": [
       "array([[ 1.09475123],\n",
       "       [ 0.31431695],\n",
       "       [ 0.68153864],\n",
       "       [-0.96233702],\n",
       "       [ 0.1977553 ],\n",
       "       [-1.86089987],\n",
       "       [ 0.38825301],\n",
       "       [ 0.31253697],\n",
       "       [ 0.98415852],\n",
       "       [ 0.10393682],\n",
       "       [-2.27571756],\n",
       "       [ 0.81002926],\n",
       "       [ 1.16776654],\n",
       "       [-0.3564891 ],\n",
       "       [-0.38964326],\n",
       "       [ 1.05501481],\n",
       "       [-0.20525284],\n",
       "       [-0.3764801 ],\n",
       "       [ 1.22258801],\n",
       "       [-0.26237537],\n",
       "       [ 0.15192322],\n",
       "       [-1.08176709],\n",
       "       [-0.42114054],\n",
       "       [ 0.48294265],\n",
       "       [ 0.0080162 ],\n",
       "       [ 1.27434501],\n",
       "       [ 0.11935651],\n",
       "       [-2.4122367 ],\n",
       "       [-0.20738484],\n",
       "       [-1.60486576]])"
      ]
     },
     "execution_count": 81,
     "metadata": {},
     "output_type": "execute_result"
    }
   ],
   "source": [
    "np.random.randn(30,1) #RANDOM normal distribution will have range of -3 to +3 and has standard normal data\n",
    "                    #Range will be 0-1"
   ]
  },
  {
   "cell_type": "markdown",
   "metadata": {},
   "source": [
    "#### In this mean=0 and standard deviation is=0"
   ]
  },
  {
   "cell_type": "markdown",
   "metadata": {},
   "source": [
    "## NORMAL DISTRUBUTION"
   ]
  },
  {
   "cell_type": "markdown",
   "metadata": {},
   "source": [
    "#### In this we need mean and variance"
   ]
  },
  {
   "cell_type": "code",
   "execution_count": 82,
   "metadata": {},
   "outputs": [
    {
     "data": {
      "text/plain": [
       "-0.4065540578995381"
      ]
     },
     "execution_count": 82,
     "metadata": {},
     "output_type": "execute_result"
    }
   ],
   "source": [
    "np.random.normal()                # Generates the value randomly but in normal"
   ]
  },
  {
   "cell_type": "code",
   "execution_count": 83,
   "metadata": {},
   "outputs": [
    {
     "data": {
      "text/plain": [
       "43.23132855843623"
      ]
     },
     "execution_count": 83,
     "metadata": {},
     "output_type": "execute_result"
    }
   ],
   "source": [
    "np.random.normal(40,5)  "
   ]
  },
  {
   "cell_type": "markdown",
   "metadata": {},
   "source": [
    "#### The skeleton for traversing:  (mean,variance,(start,begin,step_size))"
   ]
  },
  {
   "cell_type": "code",
   "execution_count": 84,
   "metadata": {},
   "outputs": [
    {
     "data": {
      "text/plain": [
       "array([[39.94133276, 45.52273322, 41.51908113, 40.9841711 ],\n",
       "       [33.8889039 , 36.64842007, 40.66412426, 39.07959504],\n",
       "       [53.41401502, 32.20336056, 43.38118505, 33.95531542],\n",
       "       [39.51465207, 42.71212995, 33.73413223, 48.59398728],\n",
       "       [42.14994078, 37.99128824, 45.26861152, 35.67546777],\n",
       "       [39.96394114, 43.32571137, 34.6925518 , 42.57867867],\n",
       "       [33.70293738, 46.83566335, 40.81656781, 33.43449189]])"
      ]
     },
     "execution_count": 84,
     "metadata": {},
     "output_type": "execute_result"
    }
   ],
   "source": [
    "np.random.normal(40,5,(7,4))       #(40,5)--> this is the mean and variance"
   ]
  },
  {
   "cell_type": "code",
   "execution_count": 89,
   "metadata": {},
   "outputs": [
    {
     "data": {
      "text/plain": [
       "array([[[40.13403901, 38.34477591, 39.40143341, 44.31158273,\n",
       "         40.61085215],\n",
       "        [40.79121116, 42.49971593, 36.87339829, 41.27210845,\n",
       "         36.84698144],\n",
       "        [42.09261218, 35.66454615, 40.24026704, 37.95832004,\n",
       "         42.83986832],\n",
       "        [41.88986084, 43.64157956, 36.02953192, 32.69254486,\n",
       "         38.98426246]],\n",
       "\n",
       "       [[36.57040302, 43.68826779, 49.12871882, 45.26935453,\n",
       "         44.26867886],\n",
       "        [41.53680277, 38.64121462, 42.71823419, 42.89044312,\n",
       "         31.2348516 ],\n",
       "        [38.77116703, 40.51555042, 22.88080703, 40.75260178,\n",
       "         38.70487644],\n",
       "        [38.38563021, 42.11370125, 42.7081086 , 40.9379885 ,\n",
       "         40.7238589 ]],\n",
       "\n",
       "       [[31.54338797, 41.09959487, 40.60063473, 41.02974906,\n",
       "         35.05292942],\n",
       "        [46.35105998, 40.11346556, 38.68434759, 43.81355717,\n",
       "         45.68280786],\n",
       "        [42.23199503, 47.05804748, 36.04052755, 43.21641014,\n",
       "         45.84705098],\n",
       "        [45.16011464, 38.24994427, 32.7966056 , 44.49747187,\n",
       "         39.93718552]],\n",
       "\n",
       "       [[43.39397765, 34.09270095, 40.15483373, 36.38876914,\n",
       "         33.44433154],\n",
       "        [38.32065296, 45.54792851, 42.39829456, 32.45439599,\n",
       "         38.08066968],\n",
       "        [40.15859041, 45.5367578 , 35.40245845, 38.9293971 ,\n",
       "         39.61880782],\n",
       "        [33.46742539, 32.47418575, 40.66994975, 44.87510527,\n",
       "         38.07611282]],\n",
       "\n",
       "       [[43.19053161, 41.36056937, 30.72834514, 47.10729934,\n",
       "         38.55389859],\n",
       "        [46.38631655, 41.55486027, 44.54793327, 27.17678726,\n",
       "         51.06502985],\n",
       "        [30.09087149, 40.60333615, 42.93127869, 42.29104891,\n",
       "         38.95882912],\n",
       "        [39.09581993, 37.86227139, 39.33305079, 41.78772558,\n",
       "         43.18164855]],\n",
       "\n",
       "       [[39.5156458 , 35.30303333, 39.10724721, 35.31857722,\n",
       "         37.42271869],\n",
       "        [48.42037656, 40.33169431, 31.10025036, 41.02168834,\n",
       "         42.54226337],\n",
       "        [40.67458156, 30.20058508, 44.43559901, 41.12313491,\n",
       "         37.9299769 ],\n",
       "        [45.62481767, 42.0815449 , 39.71889651, 38.32499765,\n",
       "         38.08932332]],\n",
       "\n",
       "       [[51.08893626, 38.72596786, 39.06544085, 40.75640276,\n",
       "         41.85822509],\n",
       "        [42.77356068, 40.24919581, 41.13514328, 33.68792313,\n",
       "         41.51500351],\n",
       "        [31.04332782, 35.67204192, 41.40140064, 36.54903149,\n",
       "         36.26399638],\n",
       "        [45.50328039, 40.3825927 , 33.79876513, 37.49625845,\n",
       "         37.55239156]]])"
      ]
     },
     "execution_count": 89,
     "metadata": {},
     "output_type": "execute_result"
    }
   ],
   "source": [
    "np.random.normal(40,5,(7,4,5))  "
   ]
  },
  {
   "cell_type": "code",
   "execution_count": 90,
   "metadata": {},
   "outputs": [
    {
     "data": {
      "text/plain": [
       "96"
      ]
     },
     "execution_count": 90,
     "metadata": {},
     "output_type": "execute_result"
    }
   ],
   "source": [
    "np.random.randint(35,100)   # uising this we can generate the random integer in between the given the specific values range"
   ]
  },
  {
   "cell_type": "code",
   "execution_count": 91,
   "metadata": {},
   "outputs": [
    {
     "data": {
      "text/plain": [
       "array([73, 85, 67, 89, 49, 97, 52, 65, 66, 57, 58, 62, 61, 74, 40, 68, 47,\n",
       "       79, 96, 82])"
      ]
     },
     "execution_count": 91,
     "metadata": {},
     "output_type": "execute_result"
    }
   ],
   "source": [
    "np.random.randint(35,100,20)"
   ]
  },
  {
   "cell_type": "code",
   "execution_count": 92,
   "metadata": {},
   "outputs": [
    {
     "data": {
      "text/plain": [
       "array([94, 62, 60, 46, 65, 53, 96, 51, 40, 73, 68, 40, 62, 89, 60, 51, 62,\n",
       "       88, 94, 38, 56, 57, 95, 72, 45, 62, 73, 69, 69, 55, 78, 77, 39, 35,\n",
       "       95, 46, 56, 35, 38, 42, 55, 86, 95, 42, 90, 66, 44, 47, 98, 60, 60,\n",
       "       48, 39, 39, 39, 65, 91, 93, 51, 98, 58, 84, 49, 50, 56, 60, 79, 78,\n",
       "       41, 88, 76, 48, 42, 78, 55, 84, 41, 48, 64, 83, 75, 77, 45, 97, 70,\n",
       "       40, 61, 69, 62, 85, 93, 99, 84, 95, 41, 91, 84, 90, 47, 87, 52, 47,\n",
       "       35, 61, 74, 41, 37, 75, 41, 60, 77, 85, 62, 84, 67, 87, 45, 96, 96,\n",
       "       89, 94, 40, 81, 65, 91, 74, 42, 51, 95, 91, 75, 37, 99, 39, 62, 87,\n",
       "       67, 66, 36, 82, 92, 93, 99, 62, 58, 71, 53, 99, 96, 91, 61, 77, 85,\n",
       "       75, 69, 86, 47, 44, 53, 64, 57, 45, 39, 67, 81, 69, 77, 49, 55, 74,\n",
       "       59, 70, 65, 95, 97, 76, 63, 80, 93, 76, 63, 76, 51, 56, 59, 51, 38,\n",
       "       91, 64, 57, 76, 67, 80, 86, 85, 65, 74, 98, 60, 98])"
      ]
     },
     "execution_count": 92,
     "metadata": {},
     "output_type": "execute_result"
    }
   ],
   "source": [
    "np.random.randint(35,100,200)"
   ]
  },
  {
   "cell_type": "code",
   "execution_count": 93,
   "metadata": {},
   "outputs": [
    {
     "data": {
      "text/plain": [
       "array([[73, 44, 51, 38, 54],\n",
       "       [61, 44, 57, 78, 77],\n",
       "       [81, 97, 54, 36, 41],\n",
       "       [75, 98, 44, 48, 90],\n",
       "       [73, 55, 59, 65, 60]])"
      ]
     },
     "execution_count": 93,
     "metadata": {},
     "output_type": "execute_result"
    }
   ],
   "source": [
    "np.random.randint(35,100,(5,5))"
   ]
  }
 ],
 "metadata": {
  "kernelspec": {
   "display_name": "Python 3 (ipykernel)",
   "language": "python",
   "name": "python3"
  },
  "language_info": {
   "codemirror_mode": {
    "name": "ipython",
    "version": 3
   },
   "file_extension": ".py",
   "mimetype": "text/x-python",
   "name": "python",
   "nbconvert_exporter": "python",
   "pygments_lexer": "ipython3",
   "version": "3.12.7"
  }
 },
 "nbformat": 4,
 "nbformat_minor": 4
}

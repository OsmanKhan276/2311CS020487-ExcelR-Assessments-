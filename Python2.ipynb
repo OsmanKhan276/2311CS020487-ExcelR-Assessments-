{
 "cells": [
  {
   "cell_type": "raw",
   "id": "a78c0475-c87f-4960-b09a-e8e6068bc710",
   "metadata": {},
   "source": [
    "if condition1:\n",
    "    task1 block of code\n",
    "elif condition2:\n",
    "    task2 block of code\n",
    "elif condition3:\n",
    "    task3 block of code\n",
    "else:\n",
    "    task4 block of code"
   ]
  },
  {
   "cell_type": "code",
   "execution_count": 1,
   "id": "bb50c7e7-ed75-43d7-83be-8e90e81e5770",
   "metadata": {
    "scrolled": true
   },
   "outputs": [
    {
     "name": "stdout",
     "output_type": "stream",
     "text": [
      "Odd\n"
     ]
    }
   ],
   "source": [
    "x=9\n",
    "if x%2==0:\n",
    "    print(\"Even\")\n",
    "else:\n",
    "    print(\"Odd\")"
   ]
  },
  {
   "cell_type": "code",
   "execution_count": 2,
   "id": "fdb6639a-7fa9-41fd-87bc-169f082b50b1",
   "metadata": {},
   "outputs": [
    {
     "data": {
      "text/plain": [
       "1"
      ]
     },
     "execution_count": 2,
     "metadata": {},
     "output_type": "execute_result"
    }
   ],
   "source": [
    "9%2"
   ]
  },
  {
   "cell_type": "code",
   "execution_count": 3,
   "id": "32c48dbe-90b2-4298-95fa-ef2dca3135ad",
   "metadata": {},
   "outputs": [
    {
     "data": {
      "text/plain": [
       "False"
      ]
     },
     "execution_count": 3,
     "metadata": {},
     "output_type": "execute_result"
    }
   ],
   "source": [
    "9%2==0"
   ]
  },
  {
   "cell_type": "code",
   "execution_count": 4,
   "id": "65ceec23-4745-4407-b3db-4c43a5e67fae",
   "metadata": {},
   "outputs": [
    {
     "data": {
      "text/plain": [
       "True"
      ]
     },
     "execution_count": 4,
     "metadata": {},
     "output_type": "execute_result"
    }
   ],
   "source": [
    "8%2==0"
   ]
  },
  {
   "cell_type": "code",
   "execution_count": 8,
   "id": "15eb0900-32ff-4193-ad8b-5fc9c6bfae03",
   "metadata": {},
   "outputs": [
    {
     "data": {
      "text/plain": [
       "'india'"
      ]
     },
     "execution_count": 8,
     "metadata": {},
     "output_type": "execute_result"
    }
   ],
   "source": [
    "y='india'\n",
    "y"
   ]
  },
  {
   "cell_type": "code",
   "execution_count": 14,
   "id": "de689b00-4025-4f55-943e-ed0bc8853e61",
   "metadata": {},
   "outputs": [
    {
     "data": {
      "text/plain": [
       "True"
      ]
     },
     "execution_count": 14,
     "metadata": {},
     "output_type": "execute_result"
    }
   ],
   "source": [
    "y.isalpha()"
   ]
  },
  {
   "cell_type": "code",
   "execution_count": 19,
   "id": "d32a0912-d837-42d2-90f6-9c5ceb365514",
   "metadata": {},
   "outputs": [],
   "source": [
    "name='John'"
   ]
  },
  {
   "cell_type": "code",
   "execution_count": 20,
   "id": "18e9ed67-d22c-4cda-ab90-26798ea13ea8",
   "metadata": {},
   "outputs": [
    {
     "name": "stdout",
     "output_type": "stream",
     "text": [
      "Accept\n"
     ]
    }
   ],
   "source": [
    "if name.isalpha()==True:\n",
    "    print('Accept')\n",
    "else:\n",
    "    print('Name should not contain digits and symbols')"
   ]
  },
  {
   "cell_type": "code",
   "execution_count": 21,
   "id": "a6dd46ee-ee6f-4c6f-b425-24dae9cc1725",
   "metadata": {},
   "outputs": [
    {
     "data": {
      "text/plain": [
       "True"
      ]
     },
     "execution_count": 21,
     "metadata": {},
     "output_type": "execute_result"
    }
   ],
   "source": [
    "name.isalpha()"
   ]
  },
  {
   "cell_type": "code",
   "execution_count": 22,
   "id": "ecabdedf-0b10-4c94-a9ad-c0c0604730a6",
   "metadata": {},
   "outputs": [
    {
     "data": {
      "text/plain": [
       "'john'"
      ]
     },
     "execution_count": 22,
     "metadata": {},
     "output_type": "execute_result"
    }
   ],
   "source": [
    "name.lower()"
   ]
  },
  {
   "cell_type": "code",
   "execution_count": 23,
   "id": "2f6fcd12-3924-4efe-8779-c3d513f509d4",
   "metadata": {},
   "outputs": [
    {
     "data": {
      "text/plain": [
       "'JOHN'"
      ]
     },
     "execution_count": 23,
     "metadata": {},
     "output_type": "execute_result"
    }
   ],
   "source": [
    "name.upper()"
   ]
  },
  {
   "cell_type": "code",
   "execution_count": 24,
   "id": "bedfc726-aa78-42c1-b287-0967bc3e5e57",
   "metadata": {},
   "outputs": [
    {
     "data": {
      "text/plain": [
       "True"
      ]
     },
     "execution_count": 24,
     "metadata": {},
     "output_type": "execute_result"
    }
   ],
   "source": [
    "name.isalpha()==True"
   ]
  },
  {
   "cell_type": "code",
   "execution_count": 25,
   "id": "1015369f-ccf9-43aa-9412-e9327a6f3dd9",
   "metadata": {},
   "outputs": [
    {
     "data": {
      "text/plain": [
       "'Telangana'"
      ]
     },
     "execution_count": 25,
     "metadata": {},
     "output_type": "execute_result"
    }
   ],
   "source": [
    "x='Telangana'\n",
    "x"
   ]
  },
  {
   "cell_type": "code",
   "execution_count": 26,
   "id": "9a747720-992a-4653-86b4-d43eca95f0d4",
   "metadata": {},
   "outputs": [
    {
     "data": {
      "text/plain": [
       "'mumbai'"
      ]
     },
     "execution_count": 26,
     "metadata": {},
     "output_type": "execute_result"
    }
   ],
   "source": [
    "x='mumbai'\n",
    "x"
   ]
  },
  {
   "cell_type": "code",
   "execution_count": 27,
   "id": "1ea9dc7c-651b-45ee-879d-be3a1805b0d1",
   "metadata": {},
   "outputs": [
    {
     "data": {
      "text/plain": [
       "'Maharashtra'"
      ]
     },
     "execution_count": 27,
     "metadata": {},
     "output_type": "execute_result"
    }
   ],
   "source": [
    "x='Maharashtra'\n",
    "x"
   ]
  },
  {
   "cell_type": "code",
   "execution_count": 28,
   "id": "6f5a49f8-961a-410b-becd-54acef09a5a3",
   "metadata": {},
   "outputs": [
    {
     "data": {
      "text/plain": [
       "'telangana'"
      ]
     },
     "execution_count": 28,
     "metadata": {},
     "output_type": "execute_result"
    }
   ],
   "source": [
    "x='telangana'\n",
    "x"
   ]
  },
  {
   "cell_type": "code",
   "execution_count": 37,
   "id": "c5087718-4ce2-4041-b8c2-b34de3bfaea7",
   "metadata": {},
   "outputs": [
    {
     "name": "stdout",
     "output_type": "stream",
     "text": [
      "Yes\n"
     ]
    }
   ],
   "source": [
    "x='Mumbai'\n",
    "if x[0].lower()=='m':\n",
    "    print(\"Yes\")\n",
    "else:\n",
    "    print(\"No\")"
   ]
  },
  {
   "cell_type": "code",
   "execution_count": 38,
   "id": "0a834adf-cf16-4049-9ccb-34f8773b6c31",
   "metadata": {},
   "outputs": [
    {
     "data": {
      "text/plain": [
       "True"
      ]
     },
     "execution_count": 38,
     "metadata": {},
     "output_type": "execute_result"
    }
   ],
   "source": [
    "x[0].lower()=='m'"
   ]
  },
  {
   "cell_type": "code",
   "execution_count": 39,
   "id": "4dc49fbb-55d8-46cd-8dc4-3871dfc3db84",
   "metadata": {},
   "outputs": [
    {
     "name": "stdout",
     "output_type": "stream",
     "text": [
      "No\n"
     ]
    }
   ],
   "source": [
    "x='Hyderabad'\n",
    "if x[0].lower()=='m':\n",
    "    print(\"Yes\")\n",
    "else:\n",
    "    print(\"No\")"
   ]
  },
  {
   "cell_type": "code",
   "execution_count": 40,
   "id": "247f2d33-ca9d-4cfb-879b-bed9f2aa7ef8",
   "metadata": {},
   "outputs": [
    {
     "data": {
      "text/plain": [
       "False"
      ]
     },
     "execution_count": 40,
     "metadata": {},
     "output_type": "execute_result"
    }
   ],
   "source": [
    "x[0].lower()=='m'"
   ]
  },
  {
   "cell_type": "code",
   "execution_count": 41,
   "id": "f41a9e7a-b6c1-412f-a3a7-9ac2b5bc0c50",
   "metadata": {},
   "outputs": [
    {
     "name": "stdout",
     "output_type": "stream",
     "text": [
      "Yes\n"
     ]
    }
   ],
   "source": [
    "x='Mumbai'\n",
    "if x[0].lower()=='m':\n",
    "    print(\"Yes\")\n",
    "elif x[0].lower()=='s':\n",
    "    print(\"Yes\")\n",
    "elif x[0].lower()=='h':\n",
    "    print(\"Yes\")\n",
    "else:\n",
    "    print(\"No\")"
   ]
  },
  {
   "cell_type": "code",
   "execution_count": 42,
   "id": "c7c43ee7-44f2-431f-9792-9d7053a97977",
   "metadata": {},
   "outputs": [
    {
     "name": "stdout",
     "output_type": "stream",
     "text": [
      "Yes\n"
     ]
    }
   ],
   "source": [
    "x='Singapore'\n",
    "if x[0].lower()=='m':\n",
    "    print(\"Yes\")\n",
    "elif x[0].lower()=='s':\n",
    "    print(\"Yes\")\n",
    "elif x[0].lower()=='h':\n",
    "    print(\"Yes\")\n",
    "else:\n",
    "    print(\"No\")"
   ]
  },
  {
   "cell_type": "code",
   "execution_count": 43,
   "id": "38f670fa-50b9-447e-ab53-40622efd589c",
   "metadata": {},
   "outputs": [
    {
     "name": "stdout",
     "output_type": "stream",
     "text": [
      "Yes\n"
     ]
    }
   ],
   "source": [
    "x='Hyderabad'\n",
    "if x[0].lower()=='m':\n",
    "    print(\"Yes\")\n",
    "elif x[0].lower()=='s':\n",
    "    print(\"Yes\")\n",
    "elif x[0].lower()=='h':\n",
    "    print(\"Yes\")\n",
    "else:\n",
    "    print(\"No\")"
   ]
  },
  {
   "cell_type": "code",
   "execution_count": 44,
   "id": "9ee4a148-2a83-4b3c-93a0-1763ec43eb27",
   "metadata": {},
   "outputs": [
    {
     "name": "stdout",
     "output_type": "stream",
     "text": [
      "No\n"
     ]
    }
   ],
   "source": [
    "x='Goa'\n",
    "if x[0].lower()=='m':\n",
    "    print(\"Yes\")\n",
    "elif x[0].lower()=='s':\n",
    "    print(\"Yes\")\n",
    "elif x[0].lower()=='h':\n",
    "    print(\"Yes\")\n",
    "else:\n",
    "    print(\"No\")"
   ]
  },
  {
   "cell_type": "code",
   "execution_count": 45,
   "id": "ac893793-61f0-47ae-8c6b-0dd4445d7a5b",
   "metadata": {},
   "outputs": [
    {
     "name": "stdout",
     "output_type": "stream",
     "text": [
      "Yes\n"
     ]
    }
   ],
   "source": [
    "x='Mumbai'\n",
    "if x[0].lower()=='m':\n",
    "    print(\"Yes\")\n",
    "elif x[0].lower()=='s':\n",
    "    print(\"Yes\")\n",
    "elif x[0].lower()=='h':\n",
    "    print(\"Yes\")\n",
    "elif x[0].lower()=='p':\n",
    "    print(\"Yes\")\n",
    "elif x[0].lower()=='k':\n",
    "    print(\"Yes\")\n",
    "else:\n",
    "    print(\"No\")"
   ]
  },
  {
   "cell_type": "code",
   "execution_count": 46,
   "id": "abb35728-254f-494b-ae06-b3f45a78c853",
   "metadata": {},
   "outputs": [
    {
     "name": "stdout",
     "output_type": "stream",
     "text": [
      "Yes\n"
     ]
    }
   ],
   "source": [
    "x='Paris'\n",
    "if x[0].lower()=='m':\n",
    "    print(\"Yes\")\n",
    "elif x[0].lower()=='s':\n",
    "    print(\"Yes\")\n",
    "elif x[0].lower()=='h':\n",
    "    print(\"Yes\")\n",
    "elif x[0].lower()=='p':\n",
    "    print(\"Yes\")\n",
    "elif x[0].lower()=='k':\n",
    "    print(\"Yes\")\n",
    "else:\n",
    "    print(\"No\")"
   ]
  },
  {
   "cell_type": "code",
   "execution_count": 47,
   "id": "8ea2747b-f9eb-44f3-b2b4-706921a07816",
   "metadata": {},
   "outputs": [
    {
     "name": "stdout",
     "output_type": "stream",
     "text": [
      "Yes\n"
     ]
    }
   ],
   "source": [
    "x='Kashmir'\n",
    "if x[0].lower()=='m':\n",
    "    print(\"Yes\")\n",
    "elif x[0].lower()=='s':\n",
    "    print(\"Yes\")\n",
    "elif x[0].lower()=='h':\n",
    "    print(\"Yes\")\n",
    "elif x[0].lower()=='p':\n",
    "    print(\"Yes\")\n",
    "elif x[0].lower()=='k':\n",
    "    print(\"Yes\")\n",
    "else:\n",
    "    print(\"No\")"
   ]
  },
  {
   "cell_type": "code",
   "execution_count": 48,
   "id": "d6236d20-cd7f-44ab-adb8-6d8c01aefd09",
   "metadata": {},
   "outputs": [
    {
     "name": "stdout",
     "output_type": "stream",
     "text": [
      "No\n"
     ]
    }
   ],
   "source": [
    "x='Goa'\n",
    "if x[0].lower()=='m':\n",
    "    print(\"Yes\")\n",
    "elif x[0].lower()=='s':\n",
    "    print(\"Yes\")\n",
    "elif x[0].lower()=='h':\n",
    "    print(\"Yes\")\n",
    "elif x[0].lower()=='p':\n",
    "    print(\"Yes\")\n",
    "elif x[0].lower()=='k':\n",
    "    print(\"Yes\")\n",
    "else:\n",
    "    print(\"No\")"
   ]
  },
  {
   "cell_type": "code",
   "execution_count": 49,
   "id": "fb7c7d4f-c8b4-4e95-906c-f15cd4d70294",
   "metadata": {},
   "outputs": [
    {
     "name": "stdout",
     "output_type": "stream",
     "text": [
      "No\n"
     ]
    }
   ],
   "source": [
    "x='Telangana'\n",
    "if x[0].lower()=='m' or x[0].lower()=='s' or x[0].lower()=='h':\n",
    "    print('Yes')\n",
    "else:\n",
    "    print('No')"
   ]
  },
  {
   "cell_type": "code",
   "execution_count": null,
   "id": "6b81999e-2e3f-4e89-a4ad-2a40dfc4909b",
   "metadata": {},
   "outputs": [],
   "source": []
  }
 ],
 "metadata": {
  "kernelspec": {
   "display_name": "Python 3 (ipykernel)",
   "language": "python",
   "name": "python3"
  },
  "language_info": {
   "codemirror_mode": {
    "name": "ipython",
    "version": 3
   },
   "file_extension": ".py",
   "mimetype": "text/x-python",
   "name": "python",
   "nbconvert_exporter": "python",
   "pygments_lexer": "ipython3",
   "version": "3.12.7"
  }
 },
 "nbformat": 4,
 "nbformat_minor": 5
}

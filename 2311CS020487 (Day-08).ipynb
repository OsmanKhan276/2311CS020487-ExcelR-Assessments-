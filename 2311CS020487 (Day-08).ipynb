{
 "cells": [
  {
   "cell_type": "markdown",
   "id": "74654585",
   "metadata": {},
   "source": [
    "#  DAY-08"
   ]
  },
  {
   "cell_type": "code",
   "execution_count": 1,
   "id": "c66cb3af",
   "metadata": {},
   "outputs": [],
   "source": [
    "# Syntax for creating a function\n",
    "\n",
    "def functionname(parameter):\n",
    "    # block of code\n",
    "    return output"
   ]
  },
  {
   "cell_type": "code",
   "execution_count": 2,
   "id": "1faf256e",
   "metadata": {},
   "outputs": [
    {
     "data": {
      "text/plain": [
       "19152.432"
      ]
     },
     "execution_count": 2,
     "metadata": {},
     "output_type": "execute_result"
    }
   ],
   "source": [
    "def calArea(r):\n",
    "    a=3.148*r*r\n",
    "    return a\n",
    "\n",
    "# Calling the function\n",
    "calArea(78)"
   ]
  },
  {
   "cell_type": "code",
   "execution_count": 3,
   "id": "fdfa9da0",
   "metadata": {},
   "outputs": [
    {
     "data": {
      "text/plain": [
       "13712.688"
      ]
     },
     "execution_count": 3,
     "metadata": {},
     "output_type": "execute_result"
    }
   ],
   "source": [
    "w=calArea(66)\n",
    "w"
   ]
  },
  {
   "cell_type": "code",
   "execution_count": 4,
   "id": "c207d411",
   "metadata": {},
   "outputs": [
    {
     "data": {
      "text/plain": [
       "float"
      ]
     },
     "execution_count": 4,
     "metadata": {},
     "output_type": "execute_result"
    }
   ],
   "source": [
    "type(w)"
   ]
  },
  {
   "cell_type": "code",
   "execution_count": 5,
   "id": "fdc1b7f7",
   "metadata": {},
   "outputs": [
    {
     "name": "stdout",
     "output_type": "stream",
     "text": [
      "7395\n"
     ]
    }
   ],
   "source": [
    "def d_to_inr(x):  #function to transfer the dollar to indian currency\n",
    "    print(x*85)\n",
    "d_to_inr(87)"
   ]
  },
  {
   "cell_type": "code",
   "execution_count": 6,
   "id": "714b9bee",
   "metadata": {},
   "outputs": [
    {
     "data": {
      "text/plain": [
       "7395"
      ]
     },
     "execution_count": 6,
     "metadata": {},
     "output_type": "execute_result"
    }
   ],
   "source": [
    "def d_to_inr(x):  #function to transfer the dollar to indian currency\n",
    "    return x*85\n",
    "d_to_inr(87)"
   ]
  },
  {
   "cell_type": "code",
   "execution_count": 7,
   "id": "151f735e",
   "metadata": {},
   "outputs": [
    {
     "data": {
      "text/plain": [
       "int"
      ]
     },
     "execution_count": 7,
     "metadata": {},
     "output_type": "execute_result"
    }
   ],
   "source": [
    "a=d_to_inr(98)\n",
    "type(a)"
   ]
  },
  {
   "cell_type": "code",
   "execution_count": 8,
   "id": "b0dad567",
   "metadata": {},
   "outputs": [
    {
     "data": {
      "text/plain": [
       "5478"
      ]
     },
     "execution_count": 8,
     "metadata": {},
     "output_type": "execute_result"
    }
   ],
   "source": [
    "def aor(l,w):\n",
    "    area=l*w\n",
    "    return area\n",
    "aor(83,66)"
   ]
  },
  {
   "cell_type": "code",
   "execution_count": 9,
   "id": "54214203",
   "metadata": {},
   "outputs": [
    {
     "data": {
      "text/plain": [
       "'IndiaIndiaIndiaIndiaIndiaIndiaIndiaIndiaIndiaIndiaIndiaIndiaIndiaIndiaIndiaIndiaIndiaIndiaIndiaIndiaIndiaIndiaIndiaIndiaIndiaIndiaIndiaIndiaIndiaIndiaIndiaIndiaIndiaIndiaIndiaIndiaIndiaIndiaIndiaIndiaIndiaIndiaIndiaIndiaIndiaIndiaIndiaIndiaIndiaIndiaIndiaIndiaIndiaIndiaIndiaIndiaIndiaIndiaIndiaIndiaIndiaIndiaIndiaIndiaIndiaIndiaIndiaIndiaIndiaIndiaIndiaIndiaIndiaIndiaIndiaIndiaIndiaIndiaIndiaIndiaIndiaIndiaIndiaIndiaIndiaIndiaIndiaIndiaIndiaIndiaIndiaIndiaIndiaIndiaIndiaIndiaIndiaIndia'"
      ]
     },
     "execution_count": 9,
     "metadata": {},
     "output_type": "execute_result"
    }
   ],
   "source": [
    "aor(98,'India')"
   ]
  },
  {
   "cell_type": "code",
   "execution_count": 10,
   "id": "a19006ba",
   "metadata": {},
   "outputs": [],
   "source": [
    "def area(radius,length,width):\n",
    "    aoc=3.14*radius*radius #area of circle\n",
    "    aor=length*width #area of rectangle\n",
    "    return [aoc,aor] #If you store in [] it displays as list if not indicated anything it stores as tuple\n",
    "#If you save it in the form of {} it will save in set"
   ]
  },
  {
   "cell_type": "code",
   "execution_count": 11,
   "id": "7ce23205",
   "metadata": {},
   "outputs": [
    {
     "data": {
      "text/plain": [
       "[6358.500000000001, 4984]"
      ]
     },
     "execution_count": 11,
     "metadata": {},
     "output_type": "execute_result"
    }
   ],
   "source": [
    "area(45,56,89)"
   ]
  },
  {
   "cell_type": "code",
   "execution_count": 12,
   "id": "afc19e20",
   "metadata": {},
   "outputs": [
    {
     "data": {
      "text/plain": [
       "function"
      ]
     },
     "execution_count": 12,
     "metadata": {},
     "output_type": "execute_result"
    }
   ],
   "source": [
    "type(area)\n",
    "#Function returns the output as tuple"
   ]
  },
  {
   "cell_type": "code",
   "execution_count": 13,
   "id": "1a095915",
   "metadata": {},
   "outputs": [
    {
     "data": {
      "text/plain": [
       "[25434.000000000004, 3618]"
      ]
     },
     "execution_count": 13,
     "metadata": {},
     "output_type": "execute_result"
    }
   ],
   "source": [
    "d=area(90,67,54)\n",
    "d"
   ]
  },
  {
   "cell_type": "code",
   "execution_count": 14,
   "id": "ab4595e7",
   "metadata": {},
   "outputs": [
    {
     "data": {
      "text/plain": [
       "list"
      ]
     },
     "execution_count": 14,
     "metadata": {},
     "output_type": "execute_result"
    }
   ],
   "source": [
    "type(d)"
   ]
  },
  {
   "cell_type": "code",
   "execution_count": 15,
   "id": "f7cbf097",
   "metadata": {},
   "outputs": [
    {
     "data": {
      "text/plain": [
       "25434.000000000004"
      ]
     },
     "execution_count": 15,
     "metadata": {},
     "output_type": "execute_result"
    }
   ],
   "source": [
    "d[0]"
   ]
  },
  {
   "cell_type": "code",
   "execution_count": 16,
   "id": "0c7adb17",
   "metadata": {},
   "outputs": [
    {
     "name": "stdout",
     "output_type": "stream",
     "text": [
      "314.0 100\n"
     ]
    }
   ],
   "source": [
    "aor,aoc=area(10,20,5)\n",
    "print(aor,aoc)"
   ]
  },
  {
   "cell_type": "code",
   "execution_count": 17,
   "id": "59bf1c75",
   "metadata": {},
   "outputs": [],
   "source": [
    "def area(radius,length,width):\n",
    "    aoc=3.14*radius*radius #area of circle\n",
    "    aor=length*width #area of rectangle\n",
    "    return {'Area Of Rect':aoc,'Area of Circle':aor}"
   ]
  },
  {
   "cell_type": "code",
   "execution_count": 18,
   "id": "91d17918",
   "metadata": {},
   "outputs": [],
   "source": [
    "d=area(87,65,24)"
   ]
  },
  {
   "cell_type": "code",
   "execution_count": 19,
   "id": "fa7fbe59",
   "metadata": {},
   "outputs": [
    {
     "data": {
      "text/plain": [
       "dict"
      ]
     },
     "execution_count": 19,
     "metadata": {},
     "output_type": "execute_result"
    }
   ],
   "source": [
    "type(d)"
   ]
  },
  {
   "cell_type": "code",
   "execution_count": 20,
   "id": "651f6226",
   "metadata": {},
   "outputs": [
    {
     "data": {
      "text/plain": [
       "{'Area Of Rect': 23766.66, 'Area of Circle': 1560}"
      ]
     },
     "execution_count": 20,
     "metadata": {},
     "output_type": "execute_result"
    }
   ],
   "source": [
    "d"
   ]
  },
  {
   "cell_type": "code",
   "execution_count": 21,
   "id": "f2f97e13",
   "metadata": {},
   "outputs": [
    {
     "data": {
      "text/plain": [
       "'Hyderabad 500008 Telangana'"
      ]
     },
     "execution_count": 21,
     "metadata": {},
     "output_type": "execute_result"
    }
   ],
   "source": [
    "t='Hyderabad 500008 Telangana'\n",
    "t"
   ]
  },
  {
   "cell_type": "code",
   "execution_count": 22,
   "id": "c97a65d3",
   "metadata": {},
   "outputs": [
    {
     "data": {
      "text/plain": [
       "{'Number of alphabetics': 18, 'Number of digits': 8}"
      ]
     },
     "execution_count": 22,
     "metadata": {},
     "output_type": "execute_result"
    }
   ],
   "source": [
    " #This is the function defined to find out the number of words and alphabets in x or provided t\n",
    "def count_num_alpha(x): \n",
    "    c=0\n",
    "    d=0\n",
    "    for i in x:\n",
    "        if i.isalpha():\n",
    "            c+=1\n",
    "        elif i.isnumeric():\n",
    "            d+=1\n",
    "    return {'Number of alphabetics':c,'Number of digits':d}\n",
    "x='Telangana 65682737 Hyderabad'\n",
    "count_num_alpha(x)\n"
   ]
  },
  {
   "cell_type": "code",
   "execution_count": 23,
   "id": "4b23083d",
   "metadata": {},
   "outputs": [
    {
     "data": {
      "text/plain": [
       "{'Number of alphabetics': 18, 'Number of digits': 6}"
      ]
     },
     "execution_count": 23,
     "metadata": {},
     "output_type": "execute_result"
    }
   ],
   "source": [
    "count_num_alpha(t)"
   ]
  },
  {
   "cell_type": "code",
   "execution_count": 24,
   "id": "307eb0af",
   "metadata": {},
   "outputs": [
    {
     "name": "stdout",
     "output_type": "stream",
     "text": [
      "{'Number of alphabetics': 18, 'Number of digits': 8, 'String without digits': 'TelanganaHyderabad'}\n"
     ]
    }
   ],
   "source": [
    "def remove_num(x): \n",
    "    c = 0\n",
    "    d = 0\n",
    "    new_string = \"\"\n",
    "\n",
    "    for i in x:\n",
    "        if i.isalpha():\n",
    "            c += 1\n",
    "            new_string += i\n",
    "        elif i.isnumeric():\n",
    "            d += 1\n",
    "\n",
    "    return {\n",
    "        'Number of alphabetics': c,\n",
    "        'Number of digits': d,\n",
    "        'String without digits': new_string\n",
    "    }\n",
    "\n",
    "x = 'Telangana 65682737 Hyderabad'\n",
    "result = remove_num(x)\n",
    "\n",
    "print(result)\n"
   ]
  },
  {
   "cell_type": "code",
   "execution_count": 25,
   "id": "b85b0424",
   "metadata": {},
   "outputs": [
    {
     "data": {
      "text/plain": [
       "{'Number of alphabetics': 18,\n",
       " 'Number of digits': 8,\n",
       " 'Numbers are removed then': 'TelanganaHyderabad'}"
      ]
     },
     "execution_count": 25,
     "metadata": {},
     "output_type": "execute_result"
    }
   ],
   "source": [
    "def remove_num(x): \n",
    "    c=0\n",
    "    d=0\n",
    "    e=\"\"\n",
    "    for i in x:\n",
    "        if i.isalpha():\n",
    "            c+=1\n",
    "            e+=i\n",
    "        elif i.isnumeric():\n",
    "            d+=1\n",
    "    return {'Number of alphabetics':c,'Number of digits':d,'Numbers are removed then':e}\n",
    "x='Telangana 65682737 Hyderabad'\n",
    "remove_num(x)\n"
   ]
  }
 ],
 "metadata": {
  "kernelspec": {
   "display_name": "Python 3 (ipykernel)",
   "language": "python",
   "name": "python3"
  },
  "language_info": {
   "codemirror_mode": {
    "name": "ipython",
    "version": 3
   },
   "file_extension": ".py",
   "mimetype": "text/x-python",
   "name": "python",
   "nbconvert_exporter": "python",
   "pygments_lexer": "ipython3",
   "version": "3.12.7"
  }
 },
 "nbformat": 4,
 "nbformat_minor": 5
}

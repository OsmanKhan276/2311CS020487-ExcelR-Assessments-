{
 "cells": [
  {
   "cell_type": "markdown",
   "id": "4b0186a8",
   "metadata": {},
   "source": [
    "# DAY-07 "
   ]
  },
  {
   "cell_type": "markdown",
   "id": "8882a1a4",
   "metadata": {},
   "source": [
    "# LOOPING STATEMENTS"
   ]
  },
  {
   "cell_type": "markdown",
   "id": "02835694",
   "metadata": {},
   "source": [
    "### I)FOR LOOP\n",
    "### II)WHILE LOOP"
   ]
  },
  {
   "cell_type": "code",
   "execution_count": 1,
   "id": "bec2894f",
   "metadata": {},
   "outputs": [
    {
     "name": "stdout",
     "output_type": "stream",
     "text": [
      "Yes 5\n",
      "Yes 5.5\n",
      "Yes 6.0\n",
      "Yes 6.5\n",
      "Yes 7.0\n",
      "Yes 7.5\n",
      "Yes 8.0\n",
      "Yes 8.5\n",
      "Yes 9.0\n",
      "Yes 9.5\n"
     ]
    }
   ],
   "source": [
    "# FOR LOOP\n",
    "x=5\n",
    "while x<10:\n",
    "    print('Yes',x)\n",
    "    x=x+0.5"
   ]
  },
  {
   "cell_type": "code",
   "execution_count": 2,
   "id": "6fccd4c4",
   "metadata": {},
   "outputs": [
    {
     "name": "stdout",
     "output_type": "stream",
     "text": [
      "Yes 5\n",
      "Yes 7\n",
      "Yes 9\n"
     ]
    }
   ],
   "source": [
    "x=5\n",
    "while x<10:\n",
    "    print('Yes',x)\n",
    "    x=x+2"
   ]
  },
  {
   "cell_type": "code",
   "execution_count": 3,
   "id": "ff7c0b93",
   "metadata": {},
   "outputs": [
    {
     "name": "stdout",
     "output_type": "stream",
     "text": [
      "Yes 5\n",
      "Yes 5.5\n",
      "Yes 6.0\n",
      "Yes 6.5\n",
      "Yes 7.0\n",
      "Yes 7.5\n",
      "Yes 8.0\n",
      "Yes 8.5\n",
      "Yes 9.0\n",
      "Yes 9.5\n"
     ]
    }
   ],
   "source": [
    "x=5\n",
    "while x<10:\n",
    "    print('Yes',x)\n",
    "    x=x+0.5"
   ]
  },
  {
   "cell_type": "code",
   "execution_count": 4,
   "id": "1afaccff",
   "metadata": {},
   "outputs": [],
   "source": [
    "x=25\n",
    "while x<10:\n",
    "    print('Yes',x)\n",
    "    x=x-5"
   ]
  },
  {
   "cell_type": "code",
   "execution_count": 5,
   "id": "b926b60e",
   "metadata": {},
   "outputs": [
    {
     "name": "stdout",
     "output_type": "stream",
     "text": [
      "Yes 70\n",
      "Yes 65\n",
      "Yes 60\n",
      "Yes 55\n",
      "Yes 50\n"
     ]
    }
   ],
   "source": [
    "x=70\n",
    "while x > 45:\n",
    "    print('Yes',x)\n",
    "    x=x-5"
   ]
  },
  {
   "cell_type": "code",
   "execution_count": 6,
   "id": "144a672f",
   "metadata": {},
   "outputs": [
    {
     "data": {
      "text/plain": [
       "[40, 25, 56, 78, 82, 66, 83]"
      ]
     },
     "execution_count": 6,
     "metadata": {},
     "output_type": "execute_result"
    }
   ],
   "source": [
    "y=[40,25,56,78,82,66,83]\n",
    "y"
   ]
  },
  {
   "cell_type": "code",
   "execution_count": 7,
   "id": "ab229aff",
   "metadata": {},
   "outputs": [
    {
     "ename": "TypeError",
     "evalue": "can only concatenate list (not \"int\") to list",
     "output_type": "error",
     "traceback": [
      "\u001b[1;31m---------------------------------------------------------------------------\u001b[0m",
      "\u001b[1;31mTypeError\u001b[0m                                 Traceback (most recent call last)",
      "Cell \u001b[1;32mIn[7], line 1\u001b[0m\n\u001b[1;32m----> 1\u001b[0m y\u001b[38;5;241m+\u001b[39m\u001b[38;5;241m5\u001b[39m\n",
      "\u001b[1;31mTypeError\u001b[0m: can only concatenate list (not \"int\") to list"
     ]
    }
   ],
   "source": [
    "y+5  #this is broadcasting property this is not applicable here"
   ]
  },
  {
   "cell_type": "code",
   "execution_count": 9,
   "id": "3166dda2",
   "metadata": {},
   "outputs": [
    {
     "data": {
      "text/plain": [
       "[40, 25, 56, 78, 82, 66, 83, 40, 25, 56, 78, 82, 66, 83]"
      ]
     },
     "execution_count": 9,
     "metadata": {},
     "output_type": "execute_result"
    }
   ],
   "source": [
    "y*2"
   ]
  },
  {
   "cell_type": "code",
   "execution_count": 10,
   "id": "5a652268",
   "metadata": {},
   "outputs": [
    {
     "data": {
      "text/plain": [
       "[40, 25, 56, 78, 82, 66, 83]"
      ]
     },
     "execution_count": 10,
     "metadata": {},
     "output_type": "execute_result"
    }
   ],
   "source": [
    "y"
   ]
  },
  {
   "cell_type": "code",
   "execution_count": 11,
   "id": "eceff20f",
   "metadata": {},
   "outputs": [
    {
     "data": {
      "text/plain": [
       "[40, 25, 56, 78, 82, 66, 83]"
      ]
     },
     "execution_count": 11,
     "metadata": {},
     "output_type": "execute_result"
    }
   ],
   "source": [
    "radius=[40,25,56,78,82,66,83]\n",
    "radius"
   ]
  },
  {
   "cell_type": "code",
   "execution_count": 12,
   "id": "898ba4b6",
   "metadata": {},
   "outputs": [
    {
     "name": "stdout",
     "output_type": "stream",
     "text": [
      "5024.0\n",
      "1962.5\n",
      "9847.04\n",
      "19103.760000000002\n",
      "21113.36\n",
      "13677.84\n",
      "21631.46\n"
     ]
    }
   ],
   "source": [
    "for i in radius:   #finding radius for each element in the list\n",
    "   values= print(3.14*i*i)"
   ]
  },
  {
   "cell_type": "code",
   "execution_count": 13,
   "id": "448c4e7f",
   "metadata": {},
   "outputs": [],
   "source": [
    "area=[]\n",
    "for i in radius: #appending the found area into the list named area\n",
    "    area.append(3.14*i*i)"
   ]
  },
  {
   "cell_type": "code",
   "execution_count": 14,
   "id": "24938dfe",
   "metadata": {},
   "outputs": [
    {
     "data": {
      "text/plain": [
       "[5024.0, 1962.5, 9847.04, 19103.760000000002, 21113.36, 13677.84, 21631.46]"
      ]
     },
     "execution_count": 14,
     "metadata": {},
     "output_type": "execute_result"
    }
   ],
   "source": [
    "area"
   ]
  },
  {
   "cell_type": "code",
   "execution_count": 15,
   "id": "45813460",
   "metadata": {},
   "outputs": [
    {
     "data": {
      "text/plain": [
       "list"
      ]
     },
     "execution_count": 15,
     "metadata": {},
     "output_type": "execute_result"
    }
   ],
   "source": [
    "type(area)"
   ]
  },
  {
   "cell_type": "code",
   "execution_count": 16,
   "id": "5969502b",
   "metadata": {},
   "outputs": [
    {
     "data": {
      "text/plain": [
       "[52, 56, 18, 45, 87, 4, 79, 456, 47, 85, 12, 4, 55, 51151, 498]"
      ]
     },
     "execution_count": 16,
     "metadata": {},
     "output_type": "execute_result"
    }
   ],
   "source": [
    "num=[52,56,18,45,87,4,79,456,47,85,12,4,55,51151,498]\n",
    "num"
   ]
  },
  {
   "cell_type": "code",
   "execution_count": 17,
   "id": "7eb99511",
   "metadata": {},
   "outputs": [
    {
     "name": "stdout",
     "output_type": "stream",
     "text": [
      "Even\n",
      "Even\n",
      "Even\n",
      "Odd\n",
      "Odd\n",
      "Even\n",
      "Odd\n",
      "Even\n",
      "Odd\n",
      "Odd\n",
      "Even\n",
      "Even\n",
      "Odd\n",
      "Odd\n",
      "Even\n"
     ]
    }
   ],
   "source": [
    "for i in num:\n",
    "    if(i%2==0):\n",
    "        print(\"Even\")\n",
    "    else:\n",
    "        print(\"Odd\")"
   ]
  },
  {
   "cell_type": "code",
   "execution_count": 18,
   "id": "cd7bee95",
   "metadata": {},
   "outputs": [],
   "source": [
    "#condition for checking and sagregatting even and odd elements\n",
    "even=[]\n",
    "odd=[]\n",
    "for i in num:\n",
    "    if i%2==0:\n",
    "        even.append(i)\n",
    "    else:\n",
    "        odd.append(i)"
   ]
  },
  {
   "cell_type": "code",
   "execution_count": 19,
   "id": "4163104b",
   "metadata": {},
   "outputs": [
    {
     "name": "stdout",
     "output_type": "stream",
     "text": [
      "Even [52, 56, 18, 4, 456, 12, 4, 498]\n"
     ]
    }
   ],
   "source": [
    "print(\"Even\",even)"
   ]
  },
  {
   "cell_type": "code",
   "execution_count": 20,
   "id": "c7260536",
   "metadata": {},
   "outputs": [
    {
     "name": "stdout",
     "output_type": "stream",
     "text": [
      "Odd [45, 87, 79, 47, 85, 55, 51151]\n"
     ]
    }
   ],
   "source": [
    "print(\"Odd\",odd)"
   ]
  },
  {
   "cell_type": "code",
   "execution_count": 21,
   "id": "f2efb38f",
   "metadata": {},
   "outputs": [],
   "source": [
    "#condition for checking and sagregatting even and odd elements\n",
    "#If even return i square and odd return i cube\n",
    "even=[]\n",
    "odd=[]\n",
    "for i in num:\n",
    "    if i%2==0:\n",
    "        even.append(i*i)\n",
    "    else:\n",
    "        odd.append(i*i*i)"
   ]
  },
  {
   "cell_type": "code",
   "execution_count": 22,
   "id": "7bf6ca25",
   "metadata": {},
   "outputs": [
    {
     "data": {
      "text/plain": [
       "[91125, 658503, 493039, 103823, 614125, 166375, 133832744995951]"
      ]
     },
     "execution_count": 22,
     "metadata": {},
     "output_type": "execute_result"
    }
   ],
   "source": [
    "odd"
   ]
  },
  {
   "cell_type": "code",
   "execution_count": 23,
   "id": "c1476a7d",
   "metadata": {},
   "outputs": [
    {
     "data": {
      "text/plain": [
       "[2704, 3136, 324, 16, 207936, 144, 16, 248004]"
      ]
     },
     "execution_count": 23,
     "metadata": {},
     "output_type": "execute_result"
    }
   ],
   "source": [
    "even"
   ]
  },
  {
   "cell_type": "code",
   "execution_count": 24,
   "id": "e1df5c83",
   "metadata": {},
   "outputs": [],
   "source": [
    "num1=[39,56,98,99,79,59,65]"
   ]
  },
  {
   "cell_type": "code",
   "execution_count": 25,
   "id": "61406cca",
   "metadata": {},
   "outputs": [],
   "source": [
    "a=39"
   ]
  },
  {
   "cell_type": "code",
   "execution_count": 26,
   "id": "26da0589",
   "metadata": {},
   "outputs": [
    {
     "data": {
      "text/plain": [
       "'39'"
      ]
     },
     "execution_count": 26,
     "metadata": {},
     "output_type": "execute_result"
    }
   ],
   "source": [
    "str(a)"
   ]
  },
  {
   "cell_type": "code",
   "execution_count": 27,
   "id": "e9357b0d",
   "metadata": {},
   "outputs": [],
   "source": [
    "d=str(a)"
   ]
  },
  {
   "cell_type": "code",
   "execution_count": 28,
   "id": "9505a746",
   "metadata": {},
   "outputs": [
    {
     "data": {
      "text/plain": [
       "'31'"
      ]
     },
     "execution_count": 28,
     "metadata": {},
     "output_type": "execute_result"
    }
   ],
   "source": [
    "d.replace('9','1')"
   ]
  },
  {
   "cell_type": "code",
   "execution_count": 29,
   "id": "c6e30852",
   "metadata": {},
   "outputs": [],
   "source": [
    "h=[]\n",
    "for i in num1:\n",
    "    a=str(i)\n",
    "    b=a.replace('9','1')  #changes the 9 at last to 1 \n",
    "    c=int(b)\n",
    "    h.append(c)"
   ]
  },
  {
   "cell_type": "code",
   "execution_count": 30,
   "id": "0bb64df8",
   "metadata": {},
   "outputs": [
    {
     "data": {
      "text/plain": [
       "[31, 56, 18, 11, 71, 51, 65]"
      ]
     },
     "execution_count": 30,
     "metadata": {},
     "output_type": "execute_result"
    }
   ],
   "source": [
    "h"
   ]
  },
  {
   "cell_type": "code",
   "execution_count": 31,
   "id": "c5216bcc",
   "metadata": {},
   "outputs": [],
   "source": [
    "a='Software'\n",
    "b=''\n",
    "for i in a:\n",
    "    if i.lower() not in ('s','o'):\n",
    "        b+=i"
   ]
  },
  {
   "cell_type": "code",
   "execution_count": 32,
   "id": "73a0382e",
   "metadata": {},
   "outputs": [
    {
     "data": {
      "text/plain": [
       "'ftware'"
      ]
     },
     "execution_count": 32,
     "metadata": {},
     "output_type": "execute_result"
    }
   ],
   "source": [
    "b"
   ]
  }
 ],
 "metadata": {
  "kernelspec": {
   "display_name": "Python 3 (ipykernel)",
   "language": "python",
   "name": "python3"
  },
  "language_info": {
   "codemirror_mode": {
    "name": "ipython",
    "version": 3
   },
   "file_extension": ".py",
   "mimetype": "text/x-python",
   "name": "python",
   "nbconvert_exporter": "python",
   "pygments_lexer": "ipython3",
   "version": "3.12.7"
  }
 },
 "nbformat": 4,
 "nbformat_minor": 5
}

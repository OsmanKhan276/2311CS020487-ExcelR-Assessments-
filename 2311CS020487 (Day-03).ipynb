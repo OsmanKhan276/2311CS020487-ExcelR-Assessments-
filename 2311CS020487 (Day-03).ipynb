{
 "cells": [
  {
   "cell_type": "markdown",
   "id": "c72caf98",
   "metadata": {},
   "source": [
    "### Creating a list named c   (DAY-03)"
   ]
  },
  {
   "cell_type": "code",
   "execution_count": 1,
   "id": "a7f382f2",
   "metadata": {},
   "outputs": [
    {
     "data": {
      "text/plain": [
       "['john', 25, 'alice', True, False, 40.23, 8525.21255, 'bob']"
      ]
     },
     "execution_count": 1,
     "metadata": {},
     "output_type": "execute_result"
    }
   ],
   "source": [
    "c=['john',25,\"alice\",True,False,40.23,8525.21255,\"bob\"]\n",
    "c"
   ]
  },
  {
   "cell_type": "code",
   "execution_count": 2,
   "id": "315d635c",
   "metadata": {},
   "outputs": [
    {
     "data": {
      "text/plain": [
       "'john'"
      ]
     },
     "execution_count": 2,
     "metadata": {},
     "output_type": "execute_result"
    }
   ],
   "source": [
    "c[0]"
   ]
  },
  {
   "cell_type": "code",
   "execution_count": 3,
   "id": "978c018c",
   "metadata": {},
   "outputs": [
    {
     "data": {
      "text/plain": [
       "str"
      ]
     },
     "execution_count": 3,
     "metadata": {},
     "output_type": "execute_result"
    }
   ],
   "source": [
    "type(c[0])"
   ]
  },
  {
   "cell_type": "code",
   "execution_count": 4,
   "id": "0b5a5f7b",
   "metadata": {},
   "outputs": [
    {
     "data": {
      "text/plain": [
       "'alice'"
      ]
     },
     "execution_count": 4,
     "metadata": {},
     "output_type": "execute_result"
    }
   ],
   "source": [
    "c[2]"
   ]
  },
  {
   "cell_type": "code",
   "execution_count": 5,
   "id": "72ad7c2c",
   "metadata": {},
   "outputs": [
    {
     "data": {
      "text/plain": [
       "40.23"
      ]
     },
     "execution_count": 5,
     "metadata": {},
     "output_type": "execute_result"
    }
   ],
   "source": [
    "c[5]"
   ]
  },
  {
   "cell_type": "code",
   "execution_count": 6,
   "id": "13e4df52",
   "metadata": {},
   "outputs": [
    {
     "data": {
      "text/plain": [
       "'bob'"
      ]
     },
     "execution_count": 6,
     "metadata": {},
     "output_type": "execute_result"
    }
   ],
   "source": [
    "c[-1]"
   ]
  },
  {
   "cell_type": "code",
   "execution_count": 7,
   "id": "7246cc14",
   "metadata": {},
   "outputs": [
    {
     "data": {
      "text/plain": [
       "8525.21255"
      ]
     },
     "execution_count": 7,
     "metadata": {},
     "output_type": "execute_result"
    }
   ],
   "source": [
    "c[-2]"
   ]
  },
  {
   "cell_type": "code",
   "execution_count": 8,
   "id": "f60ce51d",
   "metadata": {},
   "outputs": [
    {
     "data": {
      "text/plain": [
       "float"
      ]
     },
     "execution_count": 8,
     "metadata": {},
     "output_type": "execute_result"
    }
   ],
   "source": [
    "type(c[-2])"
   ]
  },
  {
   "cell_type": "code",
   "execution_count": 9,
   "id": "66f52e8f",
   "metadata": {},
   "outputs": [
    {
     "data": {
      "text/plain": [
       "'john'"
      ]
     },
     "execution_count": 9,
     "metadata": {},
     "output_type": "execute_result"
    }
   ],
   "source": [
    "c[-0]"
   ]
  },
  {
   "cell_type": "code",
   "execution_count": 10,
   "id": "7fe91f39",
   "metadata": {},
   "outputs": [
    {
     "data": {
      "text/plain": [
       "False"
      ]
     },
     "execution_count": 10,
     "metadata": {},
     "output_type": "execute_result"
    }
   ],
   "source": [
    "c[1]==c[-1]"
   ]
  },
  {
   "cell_type": "code",
   "execution_count": 11,
   "id": "a11b951c",
   "metadata": {},
   "outputs": [
    {
     "data": {
      "text/plain": [
       "True"
      ]
     },
     "execution_count": 11,
     "metadata": {},
     "output_type": "execute_result"
    }
   ],
   "source": [
    "c[1]==c[-7]"
   ]
  },
  {
   "cell_type": "code",
   "execution_count": 12,
   "id": "db36a7fc",
   "metadata": {},
   "outputs": [
    {
     "data": {
      "text/plain": [
       "bool"
      ]
     },
     "execution_count": 12,
     "metadata": {},
     "output_type": "execute_result"
    }
   ],
   "source": [
    "type(c[1]==c[-7])"
   ]
  },
  {
   "cell_type": "code",
   "execution_count": 13,
   "id": "69ad96a5",
   "metadata": {},
   "outputs": [
    {
     "data": {
      "text/plain": [
       "True"
      ]
     },
     "execution_count": 13,
     "metadata": {},
     "output_type": "execute_result"
    }
   ],
   "source": [
    "c[1]!=c[6]"
   ]
  },
  {
   "cell_type": "code",
   "execution_count": 14,
   "id": "2ceae54b",
   "metadata": {},
   "outputs": [
    {
     "data": {
      "text/plain": [
       "True"
      ]
     },
     "execution_count": 14,
     "metadata": {},
     "output_type": "execute_result"
    }
   ],
   "source": [
    "c[5]>=c[-3]"
   ]
  },
  {
   "cell_type": "markdown",
   "id": "1e85e4cb",
   "metadata": {},
   "source": [
    "### Traversing  [start:end]"
   ]
  },
  {
   "cell_type": "code",
   "execution_count": 15,
   "id": "e53c710c",
   "metadata": {},
   "outputs": [
    {
     "data": {
      "text/plain": [
       "['john', 25, 'alice']"
      ]
     },
     "execution_count": 15,
     "metadata": {},
     "output_type": "execute_result"
    }
   ],
   "source": [
    "c[0:3]"
   ]
  },
  {
   "cell_type": "code",
   "execution_count": 16,
   "id": "5b41d03f",
   "metadata": {},
   "outputs": [
    {
     "data": {
      "text/plain": [
       "['alice', True, False, 40.23, 8525.21255]"
      ]
     },
     "execution_count": 16,
     "metadata": {},
     "output_type": "execute_result"
    }
   ],
   "source": [
    "c[2:-1]"
   ]
  },
  {
   "cell_type": "code",
   "execution_count": 17,
   "id": "137a525a",
   "metadata": {},
   "outputs": [
    {
     "data": {
      "text/plain": [
       "['john', 25, 'alice', True, False, 40.23]"
      ]
     },
     "execution_count": 17,
     "metadata": {},
     "output_type": "execute_result"
    }
   ],
   "source": [
    "c[:6]"
   ]
  },
  {
   "cell_type": "code",
   "execution_count": 18,
   "id": "b5e06f0d",
   "metadata": {},
   "outputs": [
    {
     "data": {
      "text/plain": [
       "['alice', True, False, 40.23, 8525.21255, 'bob']"
      ]
     },
     "execution_count": 18,
     "metadata": {},
     "output_type": "execute_result"
    }
   ],
   "source": [
    "c[2:]"
   ]
  },
  {
   "cell_type": "code",
   "execution_count": 19,
   "id": "16242fb8",
   "metadata": {},
   "outputs": [
    {
     "data": {
      "text/plain": [
       "['john', 25, 'alice', True, False, 40.23, 8525.21255, 'bob']"
      ]
     },
     "execution_count": 19,
     "metadata": {},
     "output_type": "execute_result"
    }
   ],
   "source": [
    "c"
   ]
  },
  {
   "cell_type": "code",
   "execution_count": 20,
   "id": "300de8fa",
   "metadata": {},
   "outputs": [
    {
     "data": {
      "text/plain": [
       "['john', False]"
      ]
     },
     "execution_count": 20,
     "metadata": {},
     "output_type": "execute_result"
    }
   ],
   "source": [
    "c[0:8:4]"
   ]
  },
  {
   "cell_type": "code",
   "execution_count": 21,
   "id": "b24c707e",
   "metadata": {},
   "outputs": [
    {
     "data": {
      "text/plain": [
       "[True, False, 40.23, 8525.21255, 'bob']"
      ]
     },
     "execution_count": 21,
     "metadata": {},
     "output_type": "execute_result"
    }
   ],
   "source": [
    "c[3:]"
   ]
  },
  {
   "cell_type": "code",
   "execution_count": 22,
   "id": "72dfc2b6",
   "metadata": {},
   "outputs": [
    {
     "data": {
      "text/plain": [
       "['alice', True, False, 40.23, 8525.21255]"
      ]
     },
     "execution_count": 22,
     "metadata": {},
     "output_type": "execute_result"
    }
   ],
   "source": [
    "c[2:7]"
   ]
  },
  {
   "cell_type": "code",
   "execution_count": 23,
   "id": "2a16ca2d",
   "metadata": {},
   "outputs": [
    {
     "data": {
      "text/plain": [
       "['john', 25, 'alice', True, False, 40.23, 8525.21255, 'bob']"
      ]
     },
     "execution_count": 23,
     "metadata": {},
     "output_type": "execute_result"
    }
   ],
   "source": [
    "c"
   ]
  },
  {
   "cell_type": "code",
   "execution_count": 24,
   "id": "931a612e",
   "metadata": {},
   "outputs": [
    {
     "data": {
      "text/plain": [
       "['alice', True, False, 40.23, 8525.21255, 'bob']"
      ]
     },
     "execution_count": 24,
     "metadata": {},
     "output_type": "execute_result"
    }
   ],
   "source": [
    "c[2:8]"
   ]
  },
  {
   "cell_type": "markdown",
   "id": "90f399ec",
   "metadata": {},
   "source": [
    "### Traversing  step wise [start:end:step]"
   ]
  },
  {
   "cell_type": "code",
   "execution_count": 25,
   "id": "89a06664",
   "metadata": {},
   "outputs": [
    {
     "data": {
      "text/plain": [
       "[25, 'alice', True, False, 40.23, 8525.21255]"
      ]
     },
     "execution_count": 25,
     "metadata": {},
     "output_type": "execute_result"
    }
   ],
   "source": [
    "c[1:7:1]"
   ]
  },
  {
   "cell_type": "code",
   "execution_count": 26,
   "id": "2d9686d0",
   "metadata": {},
   "outputs": [
    {
     "data": {
      "text/plain": [
       "[25, True, 40.23]"
      ]
     },
     "execution_count": 26,
     "metadata": {},
     "output_type": "execute_result"
    }
   ],
   "source": [
    "c[1:7:2]"
   ]
  },
  {
   "cell_type": "code",
   "execution_count": 27,
   "id": "fab68b3d",
   "metadata": {},
   "outputs": [
    {
     "data": {
      "text/plain": [
       "[25, False, 'bob']"
      ]
     },
     "execution_count": 27,
     "metadata": {},
     "output_type": "execute_result"
    }
   ],
   "source": [
    "c[1:8:3]"
   ]
  },
  {
   "cell_type": "code",
   "execution_count": 28,
   "id": "29b2c88c",
   "metadata": {},
   "outputs": [
    {
     "data": {
      "text/plain": [
       "[25, 40.23]"
      ]
     },
     "execution_count": 28,
     "metadata": {},
     "output_type": "execute_result"
    }
   ],
   "source": [
    "c[1:8:4]"
   ]
  },
  {
   "cell_type": "code",
   "execution_count": 29,
   "id": "858af319",
   "metadata": {},
   "outputs": [
    {
     "data": {
      "text/plain": [
       "[25, 8525.21255]"
      ]
     },
     "execution_count": 29,
     "metadata": {},
     "output_type": "execute_result"
    }
   ],
   "source": [
    "c[1:8:5]"
   ]
  },
  {
   "cell_type": "code",
   "execution_count": 30,
   "id": "d5aa3b75",
   "metadata": {},
   "outputs": [
    {
     "data": {
      "text/plain": [
       "[25, 'bob']"
      ]
     },
     "execution_count": 30,
     "metadata": {},
     "output_type": "execute_result"
    }
   ],
   "source": [
    "c[1:8:6]"
   ]
  },
  {
   "cell_type": "code",
   "execution_count": 31,
   "id": "cfff6f2d",
   "metadata": {},
   "outputs": [
    {
     "data": {
      "text/plain": [
       "[25]"
      ]
     },
     "execution_count": 31,
     "metadata": {},
     "output_type": "execute_result"
    }
   ],
   "source": [
    "c[1:8:7]"
   ]
  },
  {
   "cell_type": "code",
   "execution_count": 32,
   "id": "8eab51fc",
   "metadata": {},
   "outputs": [
    {
     "data": {
      "text/plain": [
       "[25]"
      ]
     },
     "execution_count": 32,
     "metadata": {},
     "output_type": "execute_result"
    }
   ],
   "source": [
    "c[1:8:8]"
   ]
  },
  {
   "cell_type": "code",
   "execution_count": 33,
   "id": "b2a63ab4",
   "metadata": {},
   "outputs": [
    {
     "data": {
      "text/plain": [
       "[8525.21255]"
      ]
     },
     "execution_count": 33,
     "metadata": {},
     "output_type": "execute_result"
    }
   ],
   "source": [
    "c[-2:5:-1]"
   ]
  },
  {
   "cell_type": "code",
   "execution_count": 34,
   "id": "e9d9639d",
   "metadata": {},
   "outputs": [
    {
     "data": {
      "text/plain": [
       "[8525.21255, 40.23, False]"
      ]
     },
     "execution_count": 34,
     "metadata": {},
     "output_type": "execute_result"
    }
   ],
   "source": [
    "c[-2:-5:-1]"
   ]
  },
  {
   "cell_type": "markdown",
   "id": "72cf1890",
   "metadata": {},
   "source": [
    "## List Methods"
   ]
  },
  {
   "cell_type": "markdown",
   "id": "8bdfc7b4",
   "metadata": {},
   "source": [
    "#### append\n",
    "#### insert\n",
    "#### extend\n",
    "#### pop\n",
    "#### remove\n",
    "#### clear\n",
    "#### count"
   ]
  },
  {
   "cell_type": "code",
   "execution_count": 35,
   "id": "02edf15d",
   "metadata": {},
   "outputs": [
    {
     "data": {
      "text/plain": [
       "['john', 25, 'alice', True, False, 40.23, 8525.21255, 'bob']"
      ]
     },
     "execution_count": 35,
     "metadata": {},
     "output_type": "execute_result"
    }
   ],
   "source": [
    "c"
   ]
  },
  {
   "cell_type": "code",
   "execution_count": 36,
   "id": "6d1d98b2",
   "metadata": {},
   "outputs": [
    {
     "data": {
      "text/plain": [
       "8"
      ]
     },
     "execution_count": 36,
     "metadata": {},
     "output_type": "execute_result"
    }
   ],
   "source": [
    "len(c) #length of the list"
   ]
  },
  {
   "cell_type": "code",
   "execution_count": 37,
   "id": "9ede1e56",
   "metadata": {},
   "outputs": [],
   "source": [
    "c.append(7854444)"
   ]
  },
  {
   "cell_type": "code",
   "execution_count": 38,
   "id": "f6a9b22b",
   "metadata": {},
   "outputs": [
    {
     "data": {
      "text/plain": [
       "['john', 25, 'alice', True, False, 40.23, 8525.21255, 'bob', 7854444]"
      ]
     },
     "execution_count": 38,
     "metadata": {},
     "output_type": "execute_result"
    }
   ],
   "source": [
    "c"
   ]
  },
  {
   "cell_type": "code",
   "execution_count": 39,
   "id": "7ab6e2c8",
   "metadata": {},
   "outputs": [],
   "source": [
    "c.append('Indianssss') #add the element at the last"
   ]
  },
  {
   "cell_type": "code",
   "execution_count": 40,
   "id": "6c0ec900",
   "metadata": {},
   "outputs": [
    {
     "data": {
      "text/plain": [
       "['john',\n",
       " 25,\n",
       " 'alice',\n",
       " True,\n",
       " False,\n",
       " 40.23,\n",
       " 8525.21255,\n",
       " 'bob',\n",
       " 7854444,\n",
       " 'Indianssss']"
      ]
     },
     "execution_count": 40,
     "metadata": {},
     "output_type": "execute_result"
    }
   ],
   "source": [
    "c"
   ]
  },
  {
   "cell_type": "code",
   "execution_count": 41,
   "id": "bf76b103",
   "metadata": {},
   "outputs": [
    {
     "data": {
      "text/plain": [
       "list"
      ]
     },
     "execution_count": 41,
     "metadata": {},
     "output_type": "execute_result"
    }
   ],
   "source": [
    "type(c)"
   ]
  },
  {
   "cell_type": "code",
   "execution_count": 42,
   "id": "9382242f",
   "metadata": {},
   "outputs": [],
   "source": [
    "c.insert(1,83)"
   ]
  },
  {
   "cell_type": "code",
   "execution_count": 43,
   "id": "0202f65f",
   "metadata": {},
   "outputs": [
    {
     "data": {
      "text/plain": [
       "['john',\n",
       " 83,\n",
       " 25,\n",
       " 'alice',\n",
       " True,\n",
       " False,\n",
       " 40.23,\n",
       " 8525.21255,\n",
       " 'bob',\n",
       " 7854444,\n",
       " 'Indianssss']"
      ]
     },
     "execution_count": 43,
     "metadata": {},
     "output_type": "execute_result"
    }
   ],
   "source": [
    "c"
   ]
  },
  {
   "cell_type": "code",
   "execution_count": 44,
   "id": "d861c165",
   "metadata": {},
   "outputs": [],
   "source": [
    "c.remove(7854444) #to remove the particular element"
   ]
  },
  {
   "cell_type": "code",
   "execution_count": 45,
   "id": "2d413a23",
   "metadata": {},
   "outputs": [
    {
     "data": {
      "text/plain": [
       "['john', 83, 25, 'alice', True, False, 40.23, 8525.21255, 'bob', 'Indianssss']"
      ]
     },
     "execution_count": 45,
     "metadata": {},
     "output_type": "execute_result"
    }
   ],
   "source": [
    "c"
   ]
  },
  {
   "cell_type": "code",
   "execution_count": 46,
   "id": "f49d867b",
   "metadata": {},
   "outputs": [
    {
     "data": {
      "text/plain": [
       "10"
      ]
     },
     "execution_count": 46,
     "metadata": {},
     "output_type": "execute_result"
    }
   ],
   "source": [
    "len(c)"
   ]
  },
  {
   "cell_type": "code",
   "execution_count": 47,
   "id": "7aed2e18",
   "metadata": {},
   "outputs": [
    {
     "data": {
      "text/plain": [
       "'Indianssss'"
      ]
     },
     "execution_count": 47,
     "metadata": {},
     "output_type": "execute_result"
    }
   ],
   "source": [
    "c.pop()  #remove the lastly inserted value in the list and display"
   ]
  },
  {
   "cell_type": "code",
   "execution_count": 48,
   "id": "28c4f844",
   "metadata": {},
   "outputs": [
    {
     "data": {
      "text/plain": [
       "['john', 83, 25, 'alice', True, False, 40.23, 8525.21255, 'bob']"
      ]
     },
     "execution_count": 48,
     "metadata": {},
     "output_type": "execute_result"
    }
   ],
   "source": [
    "c"
   ]
  },
  {
   "cell_type": "code",
   "execution_count": 49,
   "id": "81d23862",
   "metadata": {},
   "outputs": [
    {
     "data": {
      "text/plain": [
       "<function list.pop(index=-1, /)>"
      ]
     },
     "execution_count": 49,
     "metadata": {},
     "output_type": "execute_result"
    }
   ],
   "source": [
    "c.pop"
   ]
  },
  {
   "cell_type": "code",
   "execution_count": 56,
   "id": "4902f8ef",
   "metadata": {},
   "outputs": [
    {
     "data": {
      "text/plain": [
       "['john', 83, 25, 'alice', True, False, 40.23]"
      ]
     },
     "execution_count": 56,
     "metadata": {},
     "output_type": "execute_result"
    }
   ],
   "source": [
    "c.pop(7)\n",
    "c"
   ]
  },
  {
   "cell_type": "code",
   "execution_count": 57,
   "id": "5914e4a7",
   "metadata": {},
   "outputs": [],
   "source": [
    "c.append('paul')"
   ]
  },
  {
   "cell_type": "code",
   "execution_count": 58,
   "id": "6075658c",
   "metadata": {},
   "outputs": [
    {
     "data": {
      "text/plain": [
       "'paul'"
      ]
     },
     "execution_count": 58,
     "metadata": {},
     "output_type": "execute_result"
    }
   ],
   "source": [
    "c.pop(7)"
   ]
  },
  {
   "cell_type": "code",
   "execution_count": 61,
   "id": "e961c520",
   "metadata": {},
   "outputs": [
    {
     "data": {
      "text/plain": [
       "['john', 83, 25, 'alice', True, False, 40.23]"
      ]
     },
     "execution_count": 61,
     "metadata": {},
     "output_type": "execute_result"
    }
   ],
   "source": [
    "c"
   ]
  },
  {
   "cell_type": "code",
   "execution_count": 64,
   "id": "1446a781",
   "metadata": {},
   "outputs": [
    {
     "data": {
      "text/plain": [
       "0"
      ]
     },
     "execution_count": 64,
     "metadata": {},
     "output_type": "execute_result"
    }
   ],
   "source": [
    "c.count('paul') #It counts the occcurance of an element in the list"
   ]
  },
  {
   "cell_type": "code",
   "execution_count": 65,
   "id": "09637c2c",
   "metadata": {},
   "outputs": [],
   "source": [
    "d=[1,2,3,5,\"cardinal\",\"thomas\"]\n"
   ]
  },
  {
   "cell_type": "code",
   "execution_count": 66,
   "id": "e6c4d17e",
   "metadata": {},
   "outputs": [
    {
     "data": {
      "text/plain": [
       "<function list.clear()>"
      ]
     },
     "execution_count": 66,
     "metadata": {},
     "output_type": "execute_result"
    }
   ],
   "source": [
    "d.clear #clears the elements in the list"
   ]
  },
  {
   "cell_type": "code",
   "execution_count": 67,
   "id": "826b1e86",
   "metadata": {},
   "outputs": [],
   "source": [
    "d.clear()  # clears the all elements in the list"
   ]
  },
  {
   "cell_type": "code",
   "execution_count": 68,
   "id": "dc71eedd",
   "metadata": {},
   "outputs": [
    {
     "data": {
      "text/plain": [
       "[]"
      ]
     },
     "execution_count": 68,
     "metadata": {},
     "output_type": "execute_result"
    }
   ],
   "source": [
    "d"
   ]
  },
  {
   "cell_type": "code",
   "execution_count": 69,
   "id": "88db807f",
   "metadata": {},
   "outputs": [
    {
     "data": {
      "text/plain": [
       "['john', 83, 25, 'alice', True, False, 40.23]"
      ]
     },
     "execution_count": 69,
     "metadata": {},
     "output_type": "execute_result"
    }
   ],
   "source": [
    "c"
   ]
  },
  {
   "cell_type": "code",
   "execution_count": 72,
   "id": "ff909d8a",
   "metadata": {},
   "outputs": [],
   "source": [
    "d.extend(c)  #extends the other elements and appends all elements in the list"
   ]
  },
  {
   "cell_type": "code",
   "execution_count": 73,
   "id": "e6d76163",
   "metadata": {},
   "outputs": [
    {
     "data": {
      "text/plain": [
       "['john',\n",
       " 83,\n",
       " 25,\n",
       " 'alice',\n",
       " True,\n",
       " False,\n",
       " 40.23,\n",
       " 'john',\n",
       " 83,\n",
       " 25,\n",
       " 'alice',\n",
       " True,\n",
       " False,\n",
       " 40.23]"
      ]
     },
     "execution_count": 73,
     "metadata": {},
     "output_type": "execute_result"
    }
   ],
   "source": [
    "d"
   ]
  },
  {
   "cell_type": "code",
   "execution_count": 74,
   "id": "5edeae47",
   "metadata": {},
   "outputs": [],
   "source": [
    "c.extend(d)"
   ]
  },
  {
   "cell_type": "code",
   "execution_count": 75,
   "id": "45702478",
   "metadata": {},
   "outputs": [
    {
     "data": {
      "text/plain": [
       "['john',\n",
       " 83,\n",
       " 25,\n",
       " 'alice',\n",
       " True,\n",
       " False,\n",
       " 40.23,\n",
       " 'john',\n",
       " 83,\n",
       " 25,\n",
       " 'alice',\n",
       " True,\n",
       " False,\n",
       " 40.23,\n",
       " 'john',\n",
       " 83,\n",
       " 25,\n",
       " 'alice',\n",
       " True,\n",
       " False,\n",
       " 40.23]"
      ]
     },
     "execution_count": 75,
     "metadata": {},
     "output_type": "execute_result"
    }
   ],
   "source": [
    "c"
   ]
  },
  {
   "cell_type": "code",
   "execution_count": 76,
   "id": "52322c94",
   "metadata": {},
   "outputs": [],
   "source": [
    "c.remove(40.23)"
   ]
  },
  {
   "cell_type": "code",
   "execution_count": 77,
   "id": "4250e21c",
   "metadata": {},
   "outputs": [
    {
     "data": {
      "text/plain": [
       "['john',\n",
       " 83,\n",
       " 25,\n",
       " 'alice',\n",
       " True,\n",
       " False,\n",
       " 'john',\n",
       " 83,\n",
       " 25,\n",
       " 'alice',\n",
       " True,\n",
       " False,\n",
       " 40.23,\n",
       " 'john',\n",
       " 83,\n",
       " 25,\n",
       " 'alice',\n",
       " True,\n",
       " False,\n",
       " 40.23]"
      ]
     },
     "execution_count": 77,
     "metadata": {},
     "output_type": "execute_result"
    }
   ],
   "source": [
    "c"
   ]
  },
  {
   "cell_type": "code",
   "execution_count": 78,
   "id": "9347e375",
   "metadata": {},
   "outputs": [],
   "source": [
    "c.clear()"
   ]
  },
  {
   "cell_type": "code",
   "execution_count": 79,
   "id": "8573682d",
   "metadata": {},
   "outputs": [],
   "source": [
    "c=[1,2]"
   ]
  },
  {
   "cell_type": "code",
   "execution_count": 80,
   "id": "fe717555",
   "metadata": {},
   "outputs": [],
   "source": [
    "c.extend([100,200,8746])"
   ]
  },
  {
   "cell_type": "code",
   "execution_count": 81,
   "id": "9e238123",
   "metadata": {},
   "outputs": [
    {
     "data": {
      "text/plain": [
       "[1, 2, 100, 200, 8746]"
      ]
     },
     "execution_count": 81,
     "metadata": {},
     "output_type": "execute_result"
    }
   ],
   "source": [
    "c"
   ]
  },
  {
   "cell_type": "code",
   "execution_count": 82,
   "id": "b3cc4a05",
   "metadata": {},
   "outputs": [],
   "source": [
    "a=[45,789,\"friends\"]"
   ]
  },
  {
   "cell_type": "code",
   "execution_count": 83,
   "id": "082345aa",
   "metadata": {},
   "outputs": [
    {
     "data": {
      "text/plain": [
       "[45, 789, 'friends']"
      ]
     },
     "execution_count": 83,
     "metadata": {},
     "output_type": "execute_result"
    }
   ],
   "source": [
    "a"
   ]
  },
  {
   "cell_type": "code",
   "execution_count": 84,
   "id": "ca2e082c",
   "metadata": {},
   "outputs": [
    {
     "data": {
      "text/plain": [
       "[45, 789, 'friends', 1, 2, 100, 200, 8746]"
      ]
     },
     "execution_count": 84,
     "metadata": {},
     "output_type": "execute_result"
    }
   ],
   "source": [
    "a+c  # Concatination of two lists"
   ]
  }
 ],
 "metadata": {
  "kernelspec": {
   "display_name": "Python 3 (ipykernel)",
   "language": "python",
   "name": "python3"
  },
  "language_info": {
   "codemirror_mode": {
    "name": "ipython",
    "version": 3
   },
   "file_extension": ".py",
   "mimetype": "text/x-python",
   "name": "python",
   "nbconvert_exporter": "python",
   "pygments_lexer": "ipython3",
   "version": "3.12.7"
  }
 },
 "nbformat": 4,
 "nbformat_minor": 5
}

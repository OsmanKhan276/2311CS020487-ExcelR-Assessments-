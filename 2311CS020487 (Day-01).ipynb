{
 "cells": [
  {
   "cell_type": "markdown",
   "id": "984952d4",
   "metadata": {},
   "source": [
    "# DAY-01 "
   ]
  },
  {
   "cell_type": "markdown",
   "id": "feba122a",
   "metadata": {},
   "source": [
    "#### addition  +\n",
    "#### subtraction  -\n",
    "#### multiplication  *\n",
    "#### division  /\n",
    "#### reminder %\n",
    "#### power **\n",
    "#### floor division / /"
   ]
  },
  {
   "cell_type": "code",
   "execution_count": 3,
   "id": "15117f06",
   "metadata": {},
   "outputs": [],
   "source": [
    "a=45\n",
    "b=4\n",
    "c=a + b\n",
    "d=a - b"
   ]
  },
  {
   "cell_type": "code",
   "execution_count": 4,
   "id": "0dafacfb",
   "metadata": {},
   "outputs": [
    {
     "name": "stdout",
     "output_type": "stream",
     "text": [
      "45\n",
      "4\n",
      "49\n"
     ]
    },
    {
     "data": {
      "text/plain": [
       "int"
      ]
     },
     "execution_count": 4,
     "metadata": {},
     "output_type": "execute_result"
    }
   ],
   "source": [
    "print(a)\n",
    "print(b)\n",
    "print(c)\n",
    "\n",
    "type(c)\n",
    "type(d)\n"
   ]
  },
  {
   "cell_type": "code",
   "execution_count": 5,
   "id": "0db7031b",
   "metadata": {},
   "outputs": [],
   "source": [
    "a = 56\n",
    "b = 67\n",
    "d = a + b"
   ]
  },
  {
   "cell_type": "code",
   "execution_count": 6,
   "id": "8e758e19",
   "metadata": {},
   "outputs": [
    {
     "name": "stdout",
     "output_type": "stream",
     "text": [
      "123\n"
     ]
    },
    {
     "data": {
      "text/plain": [
       "int"
      ]
     },
     "execution_count": 6,
     "metadata": {},
     "output_type": "execute_result"
    }
   ],
   "source": [
    "print(d)\n",
    "type(d)"
   ]
  },
  {
   "cell_type": "code",
   "execution_count": 7,
   "id": "cd99f92c",
   "metadata": {},
   "outputs": [
    {
     "name": "stdout",
     "output_type": "stream",
     "text": [
      "1.1964285714285714\n"
     ]
    },
    {
     "data": {
      "text/plain": [
       "float"
      ]
     },
     "execution_count": 7,
     "metadata": {},
     "output_type": "execute_result"
    }
   ],
   "source": [
    "#DIVISION\n",
    "a = 67\n",
    "b = 56\n",
    "c = a / b\n",
    "print(c)\n",
    "type(c)"
   ]
  },
  {
   "cell_type": "code",
   "execution_count": 8,
   "id": "32eb837e",
   "metadata": {},
   "outputs": [
    {
     "name": "stdout",
     "output_type": "stream",
     "text": [
      "45\n"
     ]
    },
    {
     "data": {
      "text/plain": [
       "int"
      ]
     },
     "execution_count": 8,
     "metadata": {},
     "output_type": "execute_result"
    }
   ],
   "source": [
    "#REMINDER\n",
    "a = 45\n",
    "b = 67\n",
    "c = a % b\n",
    "print(c)\n",
    "type(c)"
   ]
  },
  {
   "cell_type": "code",
   "execution_count": 9,
   "id": "a1c13531",
   "metadata": {},
   "outputs": [
    {
     "name": "stdout",
     "output_type": "stream",
     "text": [
      "4660808027410506132900915088997417305944355117847144307414511042169984019070976\n"
     ]
    },
    {
     "data": {
      "text/plain": [
       "int"
      ]
     },
     "execution_count": 9,
     "metadata": {},
     "output_type": "execute_result"
    }
   ],
   "source": [
    "#POWER\n",
    "a = 56\n",
    "b = 45\n",
    "c = a ** b\n",
    "print(c)\n",
    "type(c)"
   ]
  },
  {
   "cell_type": "code",
   "execution_count": 10,
   "id": "a2cd8abd",
   "metadata": {},
   "outputs": [
    {
     "name": "stdout",
     "output_type": "stream",
     "text": [
      "2\n"
     ]
    },
    {
     "data": {
      "text/plain": [
       "int"
      ]
     },
     "execution_count": 10,
     "metadata": {},
     "output_type": "execute_result"
    }
   ],
   "source": [
    "#FLOOR\n",
    "a = 87\n",
    "b = 43\n",
    "c = a // b\n",
    "print(c)\n",
    "type(c)"
   ]
  },
  {
   "cell_type": "code",
   "execution_count": 11,
   "id": "de81b938",
   "metadata": {},
   "outputs": [
    {
     "data": {
      "text/plain": [
       "False"
      ]
     },
     "execution_count": 11,
     "metadata": {},
     "output_type": "execute_result"
    }
   ],
   "source": [
    "#boolean\n",
    "#<\n",
    "x =45\n",
    "y =10.6\n",
    "x < y\n"
   ]
  },
  {
   "cell_type": "code",
   "execution_count": 12,
   "id": "f7cb9a7a",
   "metadata": {},
   "outputs": [
    {
     "data": {
      "text/plain": [
       "True"
      ]
     },
     "execution_count": 12,
     "metadata": {},
     "output_type": "execute_result"
    }
   ],
   "source": [
    "# Operator:-  >\n",
    "x =45\n",
    "y =10.6\n",
    "x > y"
   ]
  },
  {
   "cell_type": "code",
   "execution_count": 13,
   "id": "11820c7c",
   "metadata": {},
   "outputs": [
    {
     "data": {
      "text/plain": [
       "True"
      ]
     },
     "execution_count": 13,
     "metadata": {},
     "output_type": "execute_result"
    }
   ],
   "source": [
    "# Operator:- >=\n",
    "x =45\n",
    "y =10.6\n",
    "x >= y"
   ]
  },
  {
   "cell_type": "code",
   "execution_count": 14,
   "id": "920c97c4",
   "metadata": {},
   "outputs": [
    {
     "data": {
      "text/plain": [
       "False"
      ]
     },
     "execution_count": 14,
     "metadata": {},
     "output_type": "execute_result"
    }
   ],
   "source": [
    "#<=\n",
    "x =45\n",
    "y =10.6\n",
    "x <= y"
   ]
  },
  {
   "cell_type": "code",
   "execution_count": 15,
   "id": "71d577b5",
   "metadata": {},
   "outputs": [
    {
     "data": {
      "text/plain": [
       "False"
      ]
     },
     "execution_count": 15,
     "metadata": {},
     "output_type": "execute_result"
    }
   ],
   "source": [
    "# ==\n",
    "x =45\n",
    "y =10.6\n",
    "x == y\n"
   ]
  },
  {
   "cell_type": "code",
   "execution_count": 16,
   "id": "d5d26afc",
   "metadata": {},
   "outputs": [
    {
     "data": {
      "text/plain": [
       "True"
      ]
     },
     "execution_count": 16,
     "metadata": {},
     "output_type": "execute_result"
    }
   ],
   "source": [
    "x =45\n",
    "y =45\n",
    "x == y"
   ]
  },
  {
   "cell_type": "code",
   "execution_count": 17,
   "id": "469d6379",
   "metadata": {},
   "outputs": [
    {
     "data": {
      "text/plain": [
       "True"
      ]
     },
     "execution_count": 17,
     "metadata": {},
     "output_type": "execute_result"
    }
   ],
   "source": [
    "# !=\n",
    "x = 45\n",
    "y = 10.6\n",
    "x != y"
   ]
  },
  {
   "cell_type": "code",
   "execution_count": 18,
   "id": "5ad67ca0",
   "metadata": {},
   "outputs": [
    {
     "data": {
      "text/plain": [
       "False"
      ]
     },
     "execution_count": 18,
     "metadata": {},
     "output_type": "execute_result"
    }
   ],
   "source": [
    "#Logical operaters\n",
    "\n",
    "#AND OPERATOR \n",
    "\n",
    "True and True  --- True\n",
    "True and False  --- False\n",
    "False and True  --- True\n",
    "False and False  --- False\n"
   ]
  },
  {
   "cell_type": "code",
   "execution_count": 19,
   "id": "4acf9aeb",
   "metadata": {},
   "outputs": [
    {
     "data": {
      "text/plain": [
       "0"
      ]
     },
     "execution_count": 19,
     "metadata": {},
     "output_type": "execute_result"
    }
   ],
   "source": [
    "#OR OPERATOR \n",
    "\n",
    "True or True  --- True\n",
    "True or False  --- False\n",
    "False or True  --- True\n",
    "False or False  --- False"
   ]
  },
  {
   "cell_type": "code",
   "execution_count": 20,
   "id": "e836610a",
   "metadata": {},
   "outputs": [
    {
     "data": {
      "text/plain": [
       "203"
      ]
     },
     "execution_count": 20,
     "metadata": {},
     "output_type": "execute_result"
    }
   ],
   "source": [
    "c = [203,'Hyderabad',45,True,False,78,175,34.90]\n",
    "c[2]\n",
    "c[0]"
   ]
  },
  {
   "cell_type": "code",
   "execution_count": 21,
   "id": "d5354077",
   "metadata": {},
   "outputs": [
    {
     "data": {
      "text/plain": [
       "'Hyderabad'"
      ]
     },
     "execution_count": 21,
     "metadata": {},
     "output_type": "execute_result"
    }
   ],
   "source": [
    "c[1]"
   ]
  },
  {
   "cell_type": "code",
   "execution_count": 22,
   "id": "62bb4652",
   "metadata": {},
   "outputs": [
    {
     "data": {
      "text/plain": [
       "34.9"
      ]
     },
     "execution_count": 22,
     "metadata": {},
     "output_type": "execute_result"
    }
   ],
   "source": [
    "c[-1]"
   ]
  },
  {
   "cell_type": "code",
   "execution_count": 23,
   "id": "e3e53e6b",
   "metadata": {},
   "outputs": [
    {
     "data": {
      "text/plain": [
       "[45, True, False, 78, 175, 34.9]"
      ]
     },
     "execution_count": 23,
     "metadata": {},
     "output_type": "execute_result"
    }
   ],
   "source": [
    "c=[203,'Hyderabad',45,True,False,78,175,34.90]\n",
    "c[ 4:6]\n",
    "c[2: ]"
   ]
  },
  {
   "cell_type": "code",
   "execution_count": 24,
   "id": "11b8de95",
   "metadata": {},
   "outputs": [
    {
     "data": {
      "text/plain": [
       "['Hyderabad', True, 78]"
      ]
     },
     "execution_count": 24,
     "metadata": {},
     "output_type": "execute_result"
    }
   ],
   "source": [
    "c[1:7:2]"
   ]
  },
  {
   "cell_type": "code",
   "execution_count": 25,
   "id": "569323b4",
   "metadata": {},
   "outputs": [],
   "source": [
    "c=[203,'Hyderabad',45,True,False,78,175,34.90,]"
   ]
  },
  {
   "cell_type": "code",
   "execution_count": 26,
   "id": "55473dc6",
   "metadata": {},
   "outputs": [
    {
     "data": {
      "text/plain": [
       "[45, True, False, 78, 175, 34.9]"
      ]
     },
     "execution_count": 26,
     "metadata": {},
     "output_type": "execute_result"
    }
   ],
   "source": [
    "c[2:]"
   ]
  },
  {
   "cell_type": "markdown",
   "id": "c2de85f0",
   "metadata": {},
   "source": [
    "# LIST  METHODS\n",
    "##### append \n",
    "##### insert\n",
    "##### extend\n",
    "##### pop\n",
    "##### remove\n",
    "##### clear\n",
    "##### count"
   ]
  },
  {
   "cell_type": "code",
   "execution_count": 27,
   "id": "dbc538b8",
   "metadata": {},
   "outputs": [
    {
     "data": {
      "text/plain": [
       "[45, True, False, 78, 175, 34.9]"
      ]
     },
     "execution_count": 27,
     "metadata": {},
     "output_type": "execute_result"
    }
   ],
   "source": [
    "c=[45, True, False, 78, 175, 34.9]\n",
    "c"
   ]
  },
  {
   "cell_type": "code",
   "execution_count": 28,
   "id": "b3892d57",
   "metadata": {},
   "outputs": [
    {
     "data": {
      "text/plain": [
       "6"
      ]
     },
     "execution_count": 28,
     "metadata": {},
     "output_type": "execute_result"
    }
   ],
   "source": [
    "#length of list\n",
    "len(c)"
   ]
  },
  {
   "cell_type": "code",
   "execution_count": 29,
   "id": "766f8f52",
   "metadata": {},
   "outputs": [
    {
     "data": {
      "text/plain": [
       "[45, True, False, 78, 175, 34.9, 'India']"
      ]
     },
     "execution_count": 29,
     "metadata": {},
     "output_type": "execute_result"
    }
   ],
   "source": [
    "c.append('India')\n",
    "c"
   ]
  },
  {
   "cell_type": "code",
   "execution_count": 30,
   "id": "fd61df10",
   "metadata": {},
   "outputs": [
    {
     "data": {
      "text/plain": [
       "7"
      ]
     },
     "execution_count": 30,
     "metadata": {},
     "output_type": "execute_result"
    }
   ],
   "source": [
    "len(c)"
   ]
  },
  {
   "cell_type": "code",
   "execution_count": 31,
   "id": "d5c794f7",
   "metadata": {},
   "outputs": [
    {
     "data": {
      "text/plain": [
       "[45, True, False, 90, 78, 175, 34.9, 'India']"
      ]
     },
     "execution_count": 31,
     "metadata": {},
     "output_type": "execute_result"
    }
   ],
   "source": [
    "c.insert(3,90)\n",
    "c"
   ]
  },
  {
   "cell_type": "code",
   "execution_count": 32,
   "id": "b816c925",
   "metadata": {},
   "outputs": [
    {
     "data": {
      "text/plain": [
       "175"
      ]
     },
     "execution_count": 32,
     "metadata": {},
     "output_type": "execute_result"
    }
   ],
   "source": [
    "c.pop(5)"
   ]
  },
  {
   "cell_type": "code",
   "execution_count": 33,
   "id": "9ec5d418",
   "metadata": {},
   "outputs": [
    {
     "data": {
      "text/plain": [
       "[45, True, False, 90, 78, 34.9, 'India']"
      ]
     },
     "execution_count": 33,
     "metadata": {},
     "output_type": "execute_result"
    }
   ],
   "source": [
    "c"
   ]
  },
  {
   "cell_type": "code",
   "execution_count": 34,
   "id": "5e31ef9e",
   "metadata": {},
   "outputs": [],
   "source": [
    "c.clear()"
   ]
  },
  {
   "cell_type": "code",
   "execution_count": 35,
   "id": "2c1967ed",
   "metadata": {},
   "outputs": [
    {
     "data": {
      "text/plain": [
       "[]"
      ]
     },
     "execution_count": 35,
     "metadata": {},
     "output_type": "execute_result"
    }
   ],
   "source": [
    "c"
   ]
  },
  {
   "cell_type": "code",
   "execution_count": 36,
   "id": "ebd09230",
   "metadata": {},
   "outputs": [],
   "source": [
    "c=[90,'India']"
   ]
  },
  {
   "cell_type": "code",
   "execution_count": 37,
   "id": "bfce3e6f",
   "metadata": {},
   "outputs": [
    {
     "data": {
      "text/plain": [
       "[90, 'India']"
      ]
     },
     "execution_count": 37,
     "metadata": {},
     "output_type": "execute_result"
    }
   ],
   "source": [
    "c"
   ]
  },
  {
   "cell_type": "code",
   "execution_count": 38,
   "id": "0bbc6b1b",
   "metadata": {},
   "outputs": [],
   "source": [
    "c.remove(90)"
   ]
  },
  {
   "cell_type": "code",
   "execution_count": 39,
   "id": "7ddf8f32",
   "metadata": {},
   "outputs": [
    {
     "data": {
      "text/plain": [
       "['India']"
      ]
     },
     "execution_count": 39,
     "metadata": {},
     "output_type": "execute_result"
    }
   ],
   "source": [
    "c"
   ]
  },
  {
   "cell_type": "code",
   "execution_count": 40,
   "id": "5caea100",
   "metadata": {},
   "outputs": [
    {
     "data": {
      "text/plain": [
       "1"
      ]
     },
     "execution_count": 40,
     "metadata": {},
     "output_type": "execute_result"
    }
   ],
   "source": [
    "c.count('India')"
   ]
  },
  {
   "cell_type": "code",
   "execution_count": 41,
   "id": "e9b86db0",
   "metadata": {},
   "outputs": [
    {
     "data": {
      "text/plain": [
       "['India']"
      ]
     },
     "execution_count": 41,
     "metadata": {},
     "output_type": "execute_result"
    }
   ],
   "source": [
    "c"
   ]
  },
  {
   "cell_type": "code",
   "execution_count": 42,
   "id": "29a30ede",
   "metadata": {},
   "outputs": [],
   "source": [
    "del(d)"
   ]
  },
  {
   "cell_type": "code",
   "execution_count": 43,
   "id": "6b185f25",
   "metadata": {},
   "outputs": [
    {
     "data": {
      "text/plain": [
       "[6, 3, 9, 4, 1, 3, 0, 8.7, 45, 43, 89]"
      ]
     },
     "execution_count": 43,
     "metadata": {},
     "output_type": "execute_result"
    }
   ],
   "source": [
    "d=[6,3,9,4,1,3,0,8.7,45,43,89]\n",
    "d"
   ]
  }
 ],
 "metadata": {
  "kernelspec": {
   "display_name": "Python 3 (ipykernel)",
   "language": "python",
   "name": "python3"
  },
  "language_info": {
   "codemirror_mode": {
    "name": "ipython",
    "version": 3
   },
   "file_extension": ".py",
   "mimetype": "text/x-python",
   "name": "python",
   "nbconvert_exporter": "python",
   "pygments_lexer": "ipython3",
   "version": "3.12.7"
  }
 },
 "nbformat": 4,
 "nbformat_minor": 5
}

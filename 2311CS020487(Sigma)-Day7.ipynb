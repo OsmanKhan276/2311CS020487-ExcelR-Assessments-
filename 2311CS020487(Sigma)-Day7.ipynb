{
 "cells": [
  {
   "cell_type": "raw",
   "id": "1fc366ac-071c-4b91-ac97-48d2344b3061",
   "metadata": {},
   "source": [
    "1. Load and Explore the Data\n",
    "Load the sales_data.csv file using Pandas.\n",
    "Display the first 5 rows of the dataset.\n",
    "Print basic statistics (mean, median, min, max, etc.) of the numerical columns using .describe()."
   ]
  },
  {
   "cell_type": "code",
   "execution_count": 2,
   "id": "2dd4fe0f-0d39-46a8-b57e-a5bd174e729f",
   "metadata": {},
   "outputs": [],
   "source": [
    "import numpy as np\n",
    "import pandas as pd\n",
    "from sklearn.model_selection import train_test_split\n",
    "from sklearn.linear_model import LinearRegression\n",
    "from sklearn.metrics import mean_squared_error, r2_score\n",
    "import seaborn as sns\n",
    "import matplotlib.pyplot as plt"
   ]
  },
  {
   "cell_type": "code",
   "execution_count": 10,
   "id": "3221d5bf-2fb3-44de-b34a-a23a030f0580",
   "metadata": {},
   "outputs": [],
   "source": [
    "#Load the sales_data.csv file using Pandas.\n",
    "df=pd.read_csv(\"C:/Users/SAMSUNG FOR BUSINESS/Downloads/sales_data.csv\")"
   ]
  },
  {
   "cell_type": "code",
   "execution_count": 5,
   "id": "bc24fa94-a44e-47d8-bc5f-45390bb43ba7",
   "metadata": {},
   "outputs": [
    {
     "data": {
      "text/html": [
       "<div>\n",
       "<style scoped>\n",
       "    .dataframe tbody tr th:only-of-type {\n",
       "        vertical-align: middle;\n",
       "    }\n",
       "\n",
       "    .dataframe tbody tr th {\n",
       "        vertical-align: top;\n",
       "    }\n",
       "\n",
       "    .dataframe thead th {\n",
       "        text-align: right;\n",
       "    }\n",
       "</style>\n",
       "<table border=\"1\" class=\"dataframe\">\n",
       "  <thead>\n",
       "    <tr style=\"text-align: right;\">\n",
       "      <th></th>\n",
       "      <th>Date</th>\n",
       "      <th>Product</th>\n",
       "      <th>Region</th>\n",
       "      <th>Sales</th>\n",
       "      <th>Profit</th>\n",
       "      <th>Quantity</th>\n",
       "    </tr>\n",
       "  </thead>\n",
       "  <tbody>\n",
       "    <tr>\n",
       "      <th>0</th>\n",
       "      <td>2023-01-02</td>\n",
       "      <td>Tablet</td>\n",
       "      <td>East</td>\n",
       "      <td>1061.81</td>\n",
       "      <td>236.12</td>\n",
       "      <td>7</td>\n",
       "    </tr>\n",
       "    <tr>\n",
       "      <th>1</th>\n",
       "      <td>2023-01-06</td>\n",
       "      <td>Laptop</td>\n",
       "      <td>North</td>\n",
       "      <td>1926.07</td>\n",
       "      <td>246.34</td>\n",
       "      <td>8</td>\n",
       "    </tr>\n",
       "    <tr>\n",
       "      <th>2</th>\n",
       "      <td>2023-01-03</td>\n",
       "      <td>Tablet</td>\n",
       "      <td>East</td>\n",
       "      <td>1597.99</td>\n",
       "      <td>253.17</td>\n",
       "      <td>3</td>\n",
       "    </tr>\n",
       "    <tr>\n",
       "      <th>3</th>\n",
       "      <td>2023-01-20</td>\n",
       "      <td>Tablet</td>\n",
       "      <td>North</td>\n",
       "      <td>1397.99</td>\n",
       "      <td>242.23</td>\n",
       "      <td>1</td>\n",
       "    </tr>\n",
       "    <tr>\n",
       "      <th>4</th>\n",
       "      <td>2023-01-04</td>\n",
       "      <td>Laptop</td>\n",
       "      <td>West</td>\n",
       "      <td>734.03</td>\n",
       "      <td>140.36</td>\n",
       "      <td>4</td>\n",
       "    </tr>\n",
       "  </tbody>\n",
       "</table>\n",
       "</div>"
      ],
      "text/plain": [
       "         Date Product Region    Sales  Profit  Quantity\n",
       "0  2023-01-02  Tablet   East  1061.81  236.12         7\n",
       "1  2023-01-06  Laptop  North  1926.07  246.34         8\n",
       "2  2023-01-03  Tablet   East  1597.99  253.17         3\n",
       "3  2023-01-20  Tablet  North  1397.99  242.23         1\n",
       "4  2023-01-04  Laptop   West   734.03  140.36         4"
      ]
     },
     "execution_count": 5,
     "metadata": {},
     "output_type": "execute_result"
    }
   ],
   "source": [
    "df.head()"
   ]
  },
  {
   "cell_type": "code",
   "execution_count": 8,
   "id": "915f5005-e4f7-4d97-aad5-fa58c1320623",
   "metadata": {},
   "outputs": [
    {
     "data": {
      "text/html": [
       "<div>\n",
       "<style scoped>\n",
       "    .dataframe tbody tr th:only-of-type {\n",
       "        vertical-align: middle;\n",
       "    }\n",
       "\n",
       "    .dataframe tbody tr th {\n",
       "        vertical-align: top;\n",
       "    }\n",
       "\n",
       "    .dataframe thead th {\n",
       "        text-align: right;\n",
       "    }\n",
       "</style>\n",
       "<table border=\"1\" class=\"dataframe\">\n",
       "  <thead>\n",
       "    <tr style=\"text-align: right;\">\n",
       "      <th></th>\n",
       "      <th>Sales</th>\n",
       "      <th>Profit</th>\n",
       "      <th>Quantity</th>\n",
       "    </tr>\n",
       "  </thead>\n",
       "  <tbody>\n",
       "    <tr>\n",
       "      <th>count</th>\n",
       "      <td>20.000000</td>\n",
       "      <td>20.000000</td>\n",
       "      <td>20.000000</td>\n",
       "    </tr>\n",
       "    <tr>\n",
       "      <th>mean</th>\n",
       "      <td>1186.553000</td>\n",
       "      <td>211.533000</td>\n",
       "      <td>5.050000</td>\n",
       "    </tr>\n",
       "    <tr>\n",
       "      <th>std</th>\n",
       "      <td>461.528444</td>\n",
       "      <td>66.916251</td>\n",
       "      <td>2.543826</td>\n",
       "    </tr>\n",
       "    <tr>\n",
       "      <th>min</th>\n",
       "      <td>530.880000</td>\n",
       "      <td>82.160000</td>\n",
       "      <td>1.000000</td>\n",
       "    </tr>\n",
       "    <tr>\n",
       "      <th>25%</th>\n",
       "      <td>774.517500</td>\n",
       "      <td>166.515000</td>\n",
       "      <td>2.750000</td>\n",
       "    </tr>\n",
       "    <tr>\n",
       "      <th>50%</th>\n",
       "      <td>1104.865000</td>\n",
       "      <td>214.670000</td>\n",
       "      <td>5.000000</td>\n",
       "    </tr>\n",
       "    <tr>\n",
       "      <th>75%</th>\n",
       "      <td>1571.080000</td>\n",
       "      <td>248.047500</td>\n",
       "      <td>7.250000</td>\n",
       "    </tr>\n",
       "    <tr>\n",
       "      <th>max</th>\n",
       "      <td>1954.860000</td>\n",
       "      <td>364.970000</td>\n",
       "      <td>9.000000</td>\n",
       "    </tr>\n",
       "  </tbody>\n",
       "</table>\n",
       "</div>"
      ],
      "text/plain": [
       "             Sales      Profit   Quantity\n",
       "count    20.000000   20.000000  20.000000\n",
       "mean   1186.553000  211.533000   5.050000\n",
       "std     461.528444   66.916251   2.543826\n",
       "min     530.880000   82.160000   1.000000\n",
       "25%     774.517500  166.515000   2.750000\n",
       "50%    1104.865000  214.670000   5.000000\n",
       "75%    1571.080000  248.047500   7.250000\n",
       "max    1954.860000  364.970000   9.000000"
      ]
     },
     "execution_count": 8,
     "metadata": {},
     "output_type": "execute_result"
    }
   ],
   "source": [
    "#Print basic statistics (mean, median, min, max, etc.) of the numerical columns using .describe()\n",
    "df.describe()"
   ]
  },
  {
   "cell_type": "code",
   "execution_count": null,
   "id": "6dff5559-d5e3-484b-aa20-c41dc71e5d4e",
   "metadata": {},
   "outputs": [],
   "source": []
  },
  {
   "cell_type": "raw",
   "id": "2ac260db-8488-496a-a065-590d562b3b6f",
   "metadata": {},
   "source": [
    "2. Data Analysis\n",
    "Calculate the total sales for each region.\n",
    "Find the most sold product (based on quantity).\n",
    "Compute the average profit margin for each product. (Profit margin = Profit / Sales * 100)\n"
   ]
  },
  {
   "cell_type": "code",
   "execution_count": 14,
   "id": "ba0ea822-a93a-46aa-80bd-584e65fe5d12",
   "metadata": {},
   "outputs": [
    {
     "name": "stdout",
     "output_type": "stream",
     "text": [
      "### Total Sales by Region:\n"
     ]
    },
    {
     "data": {
      "text/plain": [
       "Region\n",
       "East      5818.93\n",
       "North    10449.68\n",
       "South      936.84\n",
       "West      6525.61\n",
       "Name: Sales, dtype: float64"
      ]
     },
     "metadata": {},
     "output_type": "display_data"
    },
    {
     "name": "stdout",
     "output_type": "stream",
     "text": [
      "\n",
      "### Most Sold Product:\n",
      "Tablet\n",
      "\n",
      "### Average Profit Margin by Product:\n"
     ]
    },
    {
     "data": {
      "text/plain": [
       "Product\n",
       "Keyboard      20.080696\n",
       "Laptop        17.112734\n",
       "Monitor       15.134989\n",
       "Smartphone    23.703647\n",
       "Tablet        19.955758\n",
       "Name: Profit Margin (%), dtype: float64"
      ]
     },
     "metadata": {},
     "output_type": "display_data"
    }
   ],
   "source": [
    "# Calculate the total sales for each region\n",
    "total_sales_by_region = df.groupby('Region')['Sales'].sum()\n",
    "print(\"### Total Sales by Region:\")\n",
    "display(total_sales_by_region)\n",
    "\n",
    "# Find the most sold product (based on quantity)\n",
    "most_sold_product = df.groupby('Product')['Quantity'].sum().idxmax()\n",
    "print(\"\\n### Most Sold Product:\")\n",
    "print(most_sold_product)\n",
    "\n",
    "# Compute the average profit margin for each product\n",
    "df['Profit Margin (%)'] = (df['Profit'] / df['Sales']) * 100\n",
    "average_profit_margin_by_product = df.groupby('Product')['Profit Margin (%)'].mean()\n",
    "print(\"\\n### Average Profit Margin by Product:\")\n",
    "display(average_profit_margin_by_product)\n"
   ]
  }
 ],
 "metadata": {
  "kernelspec": {
   "display_name": "Python 3 (ipykernel)",
   "language": "python",
   "name": "python3"
  },
  "language_info": {
   "codemirror_mode": {
    "name": "ipython",
    "version": 3
   },
   "file_extension": ".py",
   "mimetype": "text/x-python",
   "name": "python",
   "nbconvert_exporter": "python",
   "pygments_lexer": "ipython3",
   "version": "3.12.7"
  }
 },
 "nbformat": 4,
 "nbformat_minor": 5
}

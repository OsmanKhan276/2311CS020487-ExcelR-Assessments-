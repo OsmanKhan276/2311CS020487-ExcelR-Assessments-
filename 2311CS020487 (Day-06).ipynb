{
 "cells": [
  {
   "cell_type": "markdown",
   "id": "0dcd2680",
   "metadata": {},
   "source": [
    "# Day-06"
   ]
  },
  {
   "cell_type": "markdown",
   "id": "b249b2e6",
   "metadata": {},
   "source": [
    "### Conditional statements"
   ]
  },
  {
   "cell_type": "markdown",
   "id": "9305791d",
   "metadata": {},
   "source": [
    "####  if condition1:\n",
    "     task1\n",
    "#### elif condition2:\n",
    "     task2\n",
    "#### elif condition3:\n",
    "     task3\n",
    "#### else:\n",
    "    task4"
   ]
  },
  {
   "cell_type": "code",
   "execution_count": 1,
   "id": "a0471ff0",
   "metadata": {},
   "outputs": [
    {
     "name": "stdin",
     "output_type": "stream",
     "text": [
      "Enter a number:  2\n"
     ]
    },
    {
     "name": "stdout",
     "output_type": "stream",
     "text": [
      "Even number\n"
     ]
    }
   ],
   "source": [
    "#Code to check whetther the given number is a even or odd\n",
    "\n",
    "x=int(input(\"Enter a number: \"))\n",
    "if x%2 == 0:\n",
    "    print(\"Even number\")\n",
    "else:\n",
    "    print(\"Odd number\")"
   ]
  },
  {
   "cell_type": "code",
   "execution_count": 2,
   "id": "f04636d0",
   "metadata": {},
   "outputs": [
    {
     "data": {
      "text/plain": [
       "True"
      ]
     },
     "execution_count": 2,
     "metadata": {},
     "output_type": "execute_result"
    }
   ],
   "source": [
    "x%2==0"
   ]
  },
  {
   "cell_type": "code",
   "execution_count": 3,
   "id": "f876639e",
   "metadata": {},
   "outputs": [
    {
     "data": {
      "text/plain": [
       "False"
      ]
     },
     "execution_count": 3,
     "metadata": {},
     "output_type": "execute_result"
    }
   ],
   "source": [
    "5%2==0"
   ]
  },
  {
   "cell_type": "code",
   "execution_count": 4,
   "id": "279efe12",
   "metadata": {},
   "outputs": [
    {
     "data": {
      "text/plain": [
       "'india'"
      ]
     },
     "execution_count": 4,
     "metadata": {},
     "output_type": "execute_result"
    }
   ],
   "source": [
    "y='india'\n",
    "y"
   ]
  },
  {
   "cell_type": "code",
   "execution_count": 5,
   "id": "cf407833",
   "metadata": {},
   "outputs": [
    {
     "data": {
      "text/plain": [
       "True"
      ]
     },
     "execution_count": 5,
     "metadata": {},
     "output_type": "execute_result"
    }
   ],
   "source": [
    "y.isalpha()  # Function checks whether the input given is a alphabet or not  \n",
    "            # This method is strictly used for only Strings and not for any other data types"
   ]
  },
  {
   "cell_type": "code",
   "execution_count": 6,
   "id": "0949dcdb",
   "metadata": {},
   "outputs": [
    {
     "data": {
      "text/plain": [
       "False"
      ]
     },
     "execution_count": 6,
     "metadata": {},
     "output_type": "execute_result"
    }
   ],
   "source": [
    "y1='india123'\n",
    "y1.isalpha()"
   ]
  },
  {
   "cell_type": "code",
   "execution_count": 7,
   "id": "bafe242a",
   "metadata": {},
   "outputs": [
    {
     "data": {
      "text/plain": [
       "False"
      ]
     },
     "execution_count": 7,
     "metadata": {},
     "output_type": "execute_result"
    }
   ],
   "source": [
    "name='John98675'\n",
    "name.isalpha()"
   ]
  },
  {
   "cell_type": "code",
   "execution_count": 8,
   "id": "355b20e8",
   "metadata": {},
   "outputs": [
    {
     "name": "stdin",
     "output_type": "stream",
     "text": [
      "Enter your name in Upper case:  JOHN\n"
     ]
    },
    {
     "name": "stdout",
     "output_type": "stream",
     "text": [
      "Accept the name for re-evaluation\n"
     ]
    }
   ],
   "source": [
    "name1=str(input(\"Enter your name in Upper case: \"))\n",
    "\n",
    "# Program to check whether the input is exactly name or not\n",
    "\n",
    "if name1.isalpha()==True:\n",
    "    print('Accept the name for re-evaluation')\n",
    "else:\n",
    "    print('Name should no contain Digits or special characters')"
   ]
  },
  {
   "cell_type": "code",
   "execution_count": 9,
   "id": "bc560fd9",
   "metadata": {},
   "outputs": [
    {
     "data": {
      "text/plain": [
       "'JOHN'"
      ]
     },
     "execution_count": 9,
     "metadata": {},
     "output_type": "execute_result"
    }
   ],
   "source": [
    "name1"
   ]
  },
  {
   "cell_type": "code",
   "execution_count": 10,
   "id": "b23bfd5a",
   "metadata": {},
   "outputs": [
    {
     "data": {
      "text/plain": [
       "'john'"
      ]
     },
     "execution_count": 10,
     "metadata": {},
     "output_type": "execute_result"
    }
   ],
   "source": [
    "name1.lower()  # Makes the text to lower-case"
   ]
  },
  {
   "cell_type": "code",
   "execution_count": 11,
   "id": "cbe9e590",
   "metadata": {},
   "outputs": [
    {
     "data": {
      "text/plain": [
       "'JOHN'"
      ]
     },
     "execution_count": 11,
     "metadata": {},
     "output_type": "execute_result"
    }
   ],
   "source": [
    "name1.upper() # Makes the text to the Upper-case"
   ]
  },
  {
   "cell_type": "code",
   "execution_count": 12,
   "id": "b4ddb026",
   "metadata": {},
   "outputs": [
    {
     "data": {
      "text/plain": [
       "True"
      ]
     },
     "execution_count": 12,
     "metadata": {},
     "output_type": "execute_result"
    }
   ],
   "source": [
    "bool(name1.lower)  #checks whether the provided input is lower or not"
   ]
  },
  {
   "cell_type": "code",
   "execution_count": 13,
   "id": "9e9b213f",
   "metadata": {},
   "outputs": [
    {
     "data": {
      "text/plain": [
       "True"
      ]
     },
     "execution_count": 13,
     "metadata": {},
     "output_type": "execute_result"
    }
   ],
   "source": [
    "bool(5894)"
   ]
  },
  {
   "cell_type": "code",
   "execution_count": 14,
   "id": "836510c4",
   "metadata": {},
   "outputs": [
    {
     "data": {
      "text/plain": [
       "'Telangana'"
      ]
     },
     "execution_count": 14,
     "metadata": {},
     "output_type": "execute_result"
    }
   ],
   "source": [
    "x='Telangana'\n",
    "x"
   ]
  },
  {
   "cell_type": "code",
   "execution_count": 15,
   "id": "f38d2467",
   "metadata": {},
   "outputs": [],
   "source": [
    "x='Mumbai'"
   ]
  },
  {
   "cell_type": "code",
   "execution_count": 16,
   "id": "4da2f360",
   "metadata": {},
   "outputs": [],
   "source": [
    "x='maharashtra'"
   ]
  },
  {
   "cell_type": "code",
   "execution_count": 17,
   "id": "f2d22ad1",
   "metadata": {},
   "outputs": [],
   "source": [
    "x='telangana'"
   ]
  },
  {
   "cell_type": "code",
   "execution_count": 18,
   "id": "75577d83",
   "metadata": {},
   "outputs": [
    {
     "data": {
      "text/plain": [
       "'telangana'"
      ]
     },
     "execution_count": 18,
     "metadata": {},
     "output_type": "execute_result"
    }
   ],
   "source": [
    "x"
   ]
  },
  {
   "cell_type": "code",
   "execution_count": 19,
   "id": "1b7c2b11",
   "metadata": {},
   "outputs": [
    {
     "name": "stdin",
     "output_type": "stream",
     "text": [
      "Enter the Word:  Mumbai\n"
     ]
    },
    {
     "name": "stdout",
     "output_type": "stream",
     "text": [
      "word starts with m\n"
     ]
    }
   ],
   "source": [
    "x=str(input('Enter the Word: '))\n",
    "if x.lower().startswith('m' or 'M'):  #  startswith method to check the start \n",
    "    print(\"word starts with m\")\n",
    "else:\n",
    "    print(\"It does not start with m\")"
   ]
  },
  {
   "cell_type": "code",
   "execution_count": 20,
   "id": "cb59713d",
   "metadata": {},
   "outputs": [
    {
     "name": "stdin",
     "output_type": "stream",
     "text": [
      "Enter the Word:  Goa\n"
     ]
    },
    {
     "name": "stdout",
     "output_type": "stream",
     "text": [
      "It does not start with m\n"
     ]
    }
   ],
   "source": [
    "x=str(input('Enter the Word: '))\n",
    "if x[0]=='m' or x[0]=='M':    #simple condition to check whether the word starts with m or M\n",
    "    print(\"word starts with m or M\")\n",
    "else:\n",
    "    print(\"It does not start with m\")"
   ]
  },
  {
   "cell_type": "code",
   "execution_count": 21,
   "id": "254ef009",
   "metadata": {},
   "outputs": [
    {
     "name": "stdin",
     "output_type": "stream",
     "text": [
      "Enter the Word:  Hyderabad\n"
     ]
    },
    {
     "name": "stdout",
     "output_type": "stream",
     "text": [
      "Yes\n"
     ]
    }
   ],
   "source": [
    "x=str(input(\"Enter the Word: \"))\n",
    "\n",
    "if x[0].lower() == 'm' or x[0].lower() == 's' or x[0].lower() == 'h':\n",
    "    print(\"Yes\")\n",
    "else:\n",
    "    print(\"It does not start with m,h,s\")\n"
   ]
  },
  {
   "cell_type": "code",
   "execution_count": 22,
   "id": "d97fd971",
   "metadata": {},
   "outputs": [
    {
     "name": "stdout",
     "output_type": "stream",
     "text": [
      "Yes\n"
     ]
    }
   ],
   "source": [
    "if x[0].lower()in ('m','h','s'):\n",
    "    print(\"Yes\")\n",
    "else:\n",
    "    print(\"No\")"
   ]
  },
  {
   "cell_type": "code",
   "execution_count": 23,
   "id": "83d943fd",
   "metadata": {},
   "outputs": [
    {
     "name": "stdin",
     "output_type": "stream",
     "text": [
      "Enter the word:  Happy\n"
     ]
    },
    {
     "name": "stdout",
     "output_type": "stream",
     "text": [
      "The starting letter is: H\n"
     ]
    }
   ],
   "source": [
    "word=str(input(\"Enter the word: \"))\n",
    "if word !=0:\n",
    "    print(\"The starting letter is:\",word[0])"
   ]
  }
 ],
 "metadata": {
  "kernelspec": {
   "display_name": "Python 3 (ipykernel)",
   "language": "python",
   "name": "python3"
  },
  "language_info": {
   "codemirror_mode": {
    "name": "ipython",
    "version": 3
   },
   "file_extension": ".py",
   "mimetype": "text/x-python",
   "name": "python",
   "nbconvert_exporter": "python",
   "pygments_lexer": "ipython3",
   "version": "3.12.7"
  }
 },
 "nbformat": 4,
 "nbformat_minor": 5
}

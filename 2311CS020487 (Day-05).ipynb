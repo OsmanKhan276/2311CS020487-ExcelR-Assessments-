{
 "cells": [
  {
   "cell_type": "markdown",
   "id": "335d5e5e",
   "metadata": {},
   "source": [
    "# Day-05"
   ]
  },
  {
   "cell_type": "markdown",
   "id": "4285d18c",
   "metadata": {},
   "source": [
    "# Dictionaries"
   ]
  },
  {
   "cell_type": "code",
   "execution_count": 1,
   "id": "0d7ba508",
   "metadata": {},
   "outputs": [],
   "source": [
    "d={'a':4,'b':51,'c':80}  #Dictionaries contain values in pair wise key-value pairs\n",
    "# Are also mutable objects"
   ]
  },
  {
   "cell_type": "code",
   "execution_count": 2,
   "id": "d578c25c",
   "metadata": {},
   "outputs": [
    {
     "data": {
      "text/plain": [
       "{'a': 4, 'b': 51, 'c': 80}"
      ]
     },
     "execution_count": 2,
     "metadata": {},
     "output_type": "execute_result"
    }
   ],
   "source": [
    "d"
   ]
  },
  {
   "cell_type": "code",
   "execution_count": 3,
   "id": "f6d20b91",
   "metadata": {},
   "outputs": [
    {
     "data": {
      "text/plain": [
       "dict"
      ]
     },
     "execution_count": 3,
     "metadata": {},
     "output_type": "execute_result"
    }
   ],
   "source": [
    "type(d)"
   ]
  },
  {
   "cell_type": "code",
   "execution_count": 4,
   "id": "edde5266",
   "metadata": {},
   "outputs": [
    {
     "data": {
      "text/plain": [
       "4"
      ]
     },
     "execution_count": 4,
     "metadata": {},
     "output_type": "execute_result"
    }
   ],
   "source": [
    "d['a'] #accessing elements through key pair"
   ]
  },
  {
   "cell_type": "code",
   "execution_count": 5,
   "id": "fd933d8c",
   "metadata": {},
   "outputs": [],
   "source": [
    "l=[4,7,2]"
   ]
  },
  {
   "cell_type": "code",
   "execution_count": 6,
   "id": "377fcb53",
   "metadata": {},
   "outputs": [
    {
     "data": {
      "text/plain": [
       "4"
      ]
     },
     "execution_count": 6,
     "metadata": {},
     "output_type": "execute_result"
    }
   ],
   "source": [
    "l[0] # accesssing elements through indexes(position)"
   ]
  },
  {
   "cell_type": "code",
   "execution_count": 7,
   "id": "3cc84c66",
   "metadata": {},
   "outputs": [],
   "source": [
    "d={101:4,102:5,103:5}"
   ]
  },
  {
   "cell_type": "code",
   "execution_count": 8,
   "id": "80b309e6",
   "metadata": {},
   "outputs": [
    {
     "data": {
      "text/plain": [
       "4"
      ]
     },
     "execution_count": 8,
     "metadata": {},
     "output_type": "execute_result"
    }
   ],
   "source": [
    "d[101]"
   ]
  },
  {
   "cell_type": "code",
   "execution_count": 9,
   "id": "ecbaf24f",
   "metadata": {},
   "outputs": [],
   "source": [
    "d[103]=6  #assigning values to the oindex through keys"
   ]
  },
  {
   "cell_type": "code",
   "execution_count": 10,
   "id": "d2ee3546",
   "metadata": {},
   "outputs": [
    {
     "data": {
      "text/plain": [
       "{101: 4, 102: 5, 103: 6}"
      ]
     },
     "execution_count": 10,
     "metadata": {},
     "output_type": "execute_result"
    }
   ],
   "source": [
    "d"
   ]
  },
  {
   "cell_type": "code",
   "execution_count": 11,
   "id": "6ddf6f8a",
   "metadata": {},
   "outputs": [
    {
     "data": {
      "text/plain": [
       "4"
      ]
     },
     "execution_count": 11,
     "metadata": {},
     "output_type": "execute_result"
    }
   ],
   "source": [
    "d[101]  #no such element is present in the dictionary"
   ]
  },
  {
   "cell_type": "code",
   "execution_count": 12,
   "id": "9dc6879b",
   "metadata": {},
   "outputs": [],
   "source": [
    "d.update({104:8})  #updating the dict after creating firstly"
   ]
  },
  {
   "cell_type": "code",
   "execution_count": 13,
   "id": "f92f02e2",
   "metadata": {},
   "outputs": [
    {
     "data": {
      "text/plain": [
       "{101: 4, 102: 5, 103: 6, 104: 8}"
      ]
     },
     "execution_count": 13,
     "metadata": {},
     "output_type": "execute_result"
    }
   ],
   "source": [
    "d"
   ]
  },
  {
   "cell_type": "code",
   "execution_count": 14,
   "id": "ec4e75b3",
   "metadata": {},
   "outputs": [],
   "source": [
    "del d[104]  #Deleting a particular key value pair"
   ]
  },
  {
   "cell_type": "code",
   "execution_count": 15,
   "id": "ac1b3716",
   "metadata": {},
   "outputs": [
    {
     "data": {
      "text/plain": [
       "{101: 4, 102: 5, 103: 6}"
      ]
     },
     "execution_count": 15,
     "metadata": {},
     "output_type": "execute_result"
    }
   ],
   "source": [
    "d"
   ]
  },
  {
   "cell_type": "code",
   "execution_count": 16,
   "id": "71d4e473",
   "metadata": {},
   "outputs": [],
   "source": [
    "d.update({105:50})"
   ]
  },
  {
   "cell_type": "code",
   "execution_count": 17,
   "id": "dfeac043",
   "metadata": {},
   "outputs": [
    {
     "data": {
      "text/plain": [
       "{101: 4, 102: 5, 103: 6, 105: 50}"
      ]
     },
     "execution_count": 17,
     "metadata": {},
     "output_type": "execute_result"
    }
   ],
   "source": [
    "d"
   ]
  },
  {
   "cell_type": "code",
   "execution_count": 18,
   "id": "abb99f9b",
   "metadata": {},
   "outputs": [],
   "source": [
    "#  In dictionaries duplicate keys are not allowed but duplicate values are allowed"
   ]
  },
  {
   "cell_type": "code",
   "execution_count": 19,
   "id": "9c086d20",
   "metadata": {},
   "outputs": [],
   "source": [
    "d.update({101:10000}) #Key will remain same but value changes"
   ]
  },
  {
   "cell_type": "code",
   "execution_count": 20,
   "id": "fcd3626e",
   "metadata": {},
   "outputs": [
    {
     "data": {
      "text/plain": [
       "{101: 10000, 102: 5, 103: 6, 105: 50}"
      ]
     },
     "execution_count": 20,
     "metadata": {},
     "output_type": "execute_result"
    }
   ],
   "source": [
    "d"
   ]
  },
  {
   "cell_type": "code",
   "execution_count": 21,
   "id": "508280ed",
   "metadata": {},
   "outputs": [],
   "source": [
    "d.update({104:5000})"
   ]
  },
  {
   "cell_type": "code",
   "execution_count": 22,
   "id": "1587bbc5",
   "metadata": {},
   "outputs": [
    {
     "data": {
      "text/plain": [
       "{101: 10000, 102: 5, 103: 6, 105: 50, 104: 5000}"
      ]
     },
     "execution_count": 22,
     "metadata": {},
     "output_type": "execute_result"
    }
   ],
   "source": [
    "d"
   ]
  },
  {
   "cell_type": "code",
   "execution_count": 23,
   "id": "8264a853",
   "metadata": {},
   "outputs": [],
   "source": [
    "d.update({101:5000})"
   ]
  },
  {
   "cell_type": "code",
   "execution_count": 24,
   "id": "f5eb15a7",
   "metadata": {},
   "outputs": [
    {
     "data": {
      "text/plain": [
       "{101: 5000, 102: 5, 103: 6, 105: 50, 104: 5000}"
      ]
     },
     "execution_count": 24,
     "metadata": {},
     "output_type": "execute_result"
    }
   ],
   "source": [
    "d"
   ]
  },
  {
   "cell_type": "code",
   "execution_count": 25,
   "id": "b60d0a57",
   "metadata": {},
   "outputs": [],
   "source": [
    "d[104]={1000,5000,6000}  #adding elements in the form of list to the dictionary\n",
    "#we can also add a tuple or any kind of nested things into a dictionary"
   ]
  },
  {
   "cell_type": "code",
   "execution_count": 26,
   "id": "239da72a",
   "metadata": {},
   "outputs": [
    {
     "data": {
      "text/plain": [
       "{101: 5000, 102: 5, 103: 6, 105: 50, 104: {1000, 5000, 6000}}"
      ]
     },
     "execution_count": 26,
     "metadata": {},
     "output_type": "execute_result"
    }
   ],
   "source": [
    "d"
   ]
  },
  {
   "cell_type": "code",
   "execution_count": 27,
   "id": "efb6b539",
   "metadata": {},
   "outputs": [
    {
     "data": {
      "text/plain": [
       "{1000, 5000, 6000}"
      ]
     },
     "execution_count": 27,
     "metadata": {},
     "output_type": "execute_result"
    }
   ],
   "source": [
    "d[104]"
   ]
  },
  {
   "cell_type": "code",
   "execution_count": 28,
   "id": "f160437a",
   "metadata": {},
   "outputs": [
    {
     "data": {
      "text/plain": [
       "{101: 5000, 102: 5, 103: 6, 105: 50, 104: {1000, 5000, 6000}}"
      ]
     },
     "execution_count": 28,
     "metadata": {},
     "output_type": "execute_result"
    }
   ],
   "source": [
    "d"
   ]
  },
  {
   "cell_type": "code",
   "execution_count": 29,
   "id": "dce8a19d",
   "metadata": {},
   "outputs": [
    {
     "data": {
      "text/plain": [
       "5000"
      ]
     },
     "execution_count": 29,
     "metadata": {},
     "output_type": "execute_result"
    }
   ],
   "source": [
    "d[101]"
   ]
  },
  {
   "cell_type": "code",
   "execution_count": 30,
   "id": "e1508a73",
   "metadata": {},
   "outputs": [
    {
     "data": {
      "text/plain": [
       "set"
      ]
     },
     "execution_count": 30,
     "metadata": {},
     "output_type": "execute_result"
    }
   ],
   "source": [
    "type(d[104])  #set is a unindex object"
   ]
  },
  {
   "cell_type": "code",
   "execution_count": 31,
   "id": "3642a955",
   "metadata": {},
   "outputs": [],
   "source": [
    "d[103]=[30,40,60,80] #assingning values to the dictionary keys"
   ]
  },
  {
   "cell_type": "code",
   "execution_count": 32,
   "id": "9502303d",
   "metadata": {},
   "outputs": [
    {
     "data": {
      "text/plain": [
       "{101: 5000, 102: 5, 103: [30, 40, 60, 80], 105: 50, 104: {1000, 5000, 6000}}"
      ]
     },
     "execution_count": 32,
     "metadata": {},
     "output_type": "execute_result"
    }
   ],
   "source": [
    "d"
   ]
  },
  {
   "cell_type": "code",
   "execution_count": 33,
   "id": "b3f8e8c1",
   "metadata": {},
   "outputs": [
    {
     "data": {
      "text/plain": [
       "[30, 40, 60]"
      ]
     },
     "execution_count": 33,
     "metadata": {},
     "output_type": "execute_result"
    }
   ],
   "source": [
    "d[103][0:3] #accesiing the elements in the doctionaries-list"
   ]
  },
  {
   "cell_type": "code",
   "execution_count": 34,
   "id": "687c5962",
   "metadata": {},
   "outputs": [
    {
     "data": {
      "text/plain": [
       "[30, 40, 60, 80]"
      ]
     },
     "execution_count": 34,
     "metadata": {},
     "output_type": "execute_result"
    }
   ],
   "source": [
    "d[103]"
   ]
  },
  {
   "cell_type": "code",
   "execution_count": 35,
   "id": "856d476d",
   "metadata": {},
   "outputs": [],
   "source": [
    "d[103].append(100)  #appending or adding elemnts in the dictionaries-list"
   ]
  },
  {
   "cell_type": "code",
   "execution_count": 36,
   "id": "faaffc16",
   "metadata": {},
   "outputs": [
    {
     "data": {
      "text/plain": [
       "{101: 5000,\n",
       " 102: 5,\n",
       " 103: [30, 40, 60, 80, 100],\n",
       " 105: 50,\n",
       " 104: {1000, 5000, 6000}}"
      ]
     },
     "execution_count": 36,
     "metadata": {},
     "output_type": "execute_result"
    }
   ],
   "source": [
    "d"
   ]
  },
  {
   "cell_type": "code",
   "execution_count": 37,
   "id": "91cd8978",
   "metadata": {},
   "outputs": [
    {
     "data": {
      "text/plain": [
       "int"
      ]
     },
     "execution_count": 37,
     "metadata": {},
     "output_type": "execute_result"
    }
   ],
   "source": [
    "type(103)"
   ]
  },
  {
   "cell_type": "code",
   "execution_count": 38,
   "id": "5f53a8e4",
   "metadata": {},
   "outputs": [
    {
     "data": {
      "text/plain": [
       "list"
      ]
     },
     "execution_count": 38,
     "metadata": {},
     "output_type": "execute_result"
    }
   ],
   "source": [
    "type(d[103])"
   ]
  },
  {
   "cell_type": "code",
   "execution_count": 39,
   "id": "1f653170",
   "metadata": {},
   "outputs": [],
   "source": [
    "d[101]={50:[7,8,9,10],'apple':(20,320,45,48,958,[450,483,466])}"
   ]
  },
  {
   "cell_type": "code",
   "execution_count": 40,
   "id": "5c418e70",
   "metadata": {},
   "outputs": [
    {
     "data": {
      "text/plain": [
       "{101: {50: [7, 8, 9, 10], 'apple': (20, 320, 45, 48, 958, [450, 483, 466])},\n",
       " 102: 5,\n",
       " 103: [30, 40, 60, 80, 100],\n",
       " 105: 50,\n",
       " 104: {1000, 5000, 6000}}"
      ]
     },
     "execution_count": 40,
     "metadata": {},
     "output_type": "execute_result"
    }
   ],
   "source": [
    "d"
   ]
  },
  {
   "cell_type": "code",
   "execution_count": 41,
   "id": "99343ce4",
   "metadata": {},
   "outputs": [],
   "source": [
    "d[105]={'a':(10,50,80),'b':(1000,4000,8000,4578),'c':['k',{'t':[11,22],'R':(477,88)},'N']}"
   ]
  },
  {
   "cell_type": "code",
   "execution_count": 42,
   "id": "d77e7289",
   "metadata": {
    "scrolled": true
   },
   "outputs": [
    {
     "data": {
      "text/plain": [
       "{101: {50: [7, 8, 9, 10], 'apple': (20, 320, 45, 48, 958, [450, 483, 466])},\n",
       " 102: 5,\n",
       " 103: [30, 40, 60, 80, 100],\n",
       " 105: {'a': (10, 50, 80),\n",
       "  'b': (1000, 4000, 8000, 4578),\n",
       "  'c': ['k', {'t': [11, 22], 'R': (477, 88)}, 'N']},\n",
       " 104: {1000, 5000, 6000}}"
      ]
     },
     "execution_count": 42,
     "metadata": {},
     "output_type": "execute_result"
    }
   ],
   "source": [
    "d"
   ]
  },
  {
   "cell_type": "code",
   "execution_count": 43,
   "id": "bd476b68",
   "metadata": {},
   "outputs": [
    {
     "data": {
      "text/plain": [
       "466"
      ]
     },
     "execution_count": 43,
     "metadata": {},
     "output_type": "execute_result"
    }
   ],
   "source": [
    "d[101]['apple'][5][2]"
   ]
  },
  {
   "cell_type": "code",
   "execution_count": 44,
   "id": "5db80573",
   "metadata": {},
   "outputs": [
    {
     "data": {
      "text/plain": [
       "1000"
      ]
     },
     "execution_count": 44,
     "metadata": {},
     "output_type": "execute_result"
    }
   ],
   "source": [
    "d[105]['b'][0]"
   ]
  }
 ],
 "metadata": {
  "kernelspec": {
   "display_name": "Python 3 (ipykernel)",
   "language": "python",
   "name": "python3"
  },
  "language_info": {
   "codemirror_mode": {
    "name": "ipython",
    "version": 3
   },
   "file_extension": ".py",
   "mimetype": "text/x-python",
   "name": "python",
   "nbconvert_exporter": "python",
   "pygments_lexer": "ipython3",
   "version": "3.12.7"
  }
 },
 "nbformat": 4,
 "nbformat_minor": 5
}

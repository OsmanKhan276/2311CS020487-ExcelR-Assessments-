{
 "cells": [
  {
   "cell_type": "markdown",
   "id": "82d9c4c0",
   "metadata": {},
   "source": [
    "# Tuple  Day -- 04"
   ]
  },
  {
   "cell_type": "code",
   "execution_count": 1,
   "id": "8591c454",
   "metadata": {},
   "outputs": [],
   "source": [
    "t=(40,57,54,7894,4555)"
   ]
  },
  {
   "cell_type": "code",
   "execution_count": 2,
   "id": "f87a994a",
   "metadata": {},
   "outputs": [
    {
     "data": {
      "text/plain": [
       "tuple"
      ]
     },
     "execution_count": 2,
     "metadata": {},
     "output_type": "execute_result"
    }
   ],
   "source": [
    "type(t)   #tells type"
   ]
  },
  {
   "cell_type": "code",
   "execution_count": 3,
   "id": "816f2495",
   "metadata": {},
   "outputs": [
    {
     "data": {
      "text/plain": [
       "1"
      ]
     },
     "execution_count": 3,
     "metadata": {},
     "output_type": "execute_result"
    }
   ],
   "source": [
    "t.count(40) #count of a particular element"
   ]
  },
  {
   "cell_type": "code",
   "execution_count": 4,
   "id": "8f06ab9e",
   "metadata": {},
   "outputs": [
    {
     "data": {
      "text/plain": [
       "2"
      ]
     },
     "execution_count": 4,
     "metadata": {},
     "output_type": "execute_result"
    }
   ],
   "source": [
    "t.index(54) #index of a particular element"
   ]
  },
  {
   "cell_type": "code",
   "execution_count": 5,
   "id": "939db598",
   "metadata": {},
   "outputs": [
    {
     "data": {
      "text/plain": [
       "(40, 57, 54)"
      ]
     },
     "execution_count": 5,
     "metadata": {},
     "output_type": "execute_result"
    }
   ],
   "source": [
    "t[0:3] #accesing "
   ]
  },
  {
   "cell_type": "markdown",
   "id": "8ddd1ced",
   "metadata": {},
   "source": [
    "#  Set"
   ]
  },
  {
   "cell_type": "code",
   "execution_count": 6,
   "id": "5556d697",
   "metadata": {},
   "outputs": [],
   "source": [
    "h={70,56,48,899}"
   ]
  },
  {
   "cell_type": "code",
   "execution_count": 7,
   "id": "b15cec1e",
   "metadata": {},
   "outputs": [
    {
     "data": {
      "text/plain": [
       "set"
      ]
     },
     "execution_count": 7,
     "metadata": {},
     "output_type": "execute_result"
    }
   ],
   "source": [
    "type(h)"
   ]
  },
  {
   "cell_type": "code",
   "execution_count": 8,
   "id": "2ba0c4b8",
   "metadata": {},
   "outputs": [],
   "source": [
    "h.remove(70) #removes a particular element"
   ]
  },
  {
   "cell_type": "code",
   "execution_count": 9,
   "id": "4143420d",
   "metadata": {},
   "outputs": [
    {
     "data": {
      "text/plain": [
       "{48, 56, 899}"
      ]
     },
     "execution_count": 9,
     "metadata": {},
     "output_type": "execute_result"
    }
   ],
   "source": [
    "h"
   ]
  },
  {
   "cell_type": "code",
   "execution_count": 10,
   "id": "524205e6",
   "metadata": {},
   "outputs": [],
   "source": [
    "g={78,56,66}"
   ]
  },
  {
   "cell_type": "code",
   "execution_count": 11,
   "id": "462d5813",
   "metadata": {},
   "outputs": [
    {
     "data": {
      "text/plain": [
       "{48, 899}"
      ]
     },
     "execution_count": 11,
     "metadata": {},
     "output_type": "execute_result"
    }
   ],
   "source": [
    "h.difference(g)  #difference between the 2 sets"
   ]
  },
  {
   "cell_type": "code",
   "execution_count": 12,
   "id": "7829526f",
   "metadata": {},
   "outputs": [
    {
     "data": {
      "text/plain": [
       "{66, 78}"
      ]
     },
     "execution_count": 12,
     "metadata": {},
     "output_type": "execute_result"
    }
   ],
   "source": [
    "g.difference(h)"
   ]
  },
  {
   "cell_type": "code",
   "execution_count": 13,
   "id": "add9770b",
   "metadata": {},
   "outputs": [
    {
     "data": {
      "text/plain": [
       "{56}"
      ]
     },
     "execution_count": 13,
     "metadata": {},
     "output_type": "execute_result"
    }
   ],
   "source": [
    "h.intersection(g)  #finds out the common element in the sets"
   ]
  },
  {
   "cell_type": "code",
   "execution_count": 14,
   "id": "3be35c9d",
   "metadata": {},
   "outputs": [
    {
     "data": {
      "text/plain": [
       "{56}"
      ]
     },
     "execution_count": 14,
     "metadata": {},
     "output_type": "execute_result"
    }
   ],
   "source": [
    "g.intersection(h)"
   ]
  },
  {
   "cell_type": "code",
   "execution_count": 15,
   "id": "51f8657e",
   "metadata": {},
   "outputs": [
    {
     "data": {
      "text/plain": [
       "{48, 56, 66, 78, 899}"
      ]
     },
     "execution_count": 15,
     "metadata": {},
     "output_type": "execute_result"
    }
   ],
   "source": [
    "h.union(g) #combines the all elemnts removes the duplicate values"
   ]
  },
  {
   "cell_type": "code",
   "execution_count": 16,
   "id": "15703a6f",
   "metadata": {},
   "outputs": [
    {
     "data": {
      "text/plain": [
       "{48, 56, 66, 78, 899}"
      ]
     },
     "execution_count": 16,
     "metadata": {},
     "output_type": "execute_result"
    }
   ],
   "source": [
    "g.union(h)"
   ]
  },
  {
   "cell_type": "code",
   "execution_count": 17,
   "id": "1087deb0",
   "metadata": {},
   "outputs": [
    {
     "data": {
      "text/plain": [
       "{66, 78}"
      ]
     },
     "execution_count": 17,
     "metadata": {},
     "output_type": "execute_result"
    }
   ],
   "source": [
    "g.difference(h) #take only the values purely from set g"
   ]
  },
  {
   "cell_type": "code",
   "execution_count": 18,
   "id": "892b4001",
   "metadata": {},
   "outputs": [
    {
     "data": {
      "text/plain": [
       "{48, 899}"
      ]
     },
     "execution_count": 18,
     "metadata": {},
     "output_type": "execute_result"
    }
   ],
   "source": [
    "h.difference(g)  #take only the values purely from set h"
   ]
  },
  {
   "cell_type": "code",
   "execution_count": 19,
   "id": "6326b45e",
   "metadata": {},
   "outputs": [
    {
     "data": {
      "text/plain": [
       "{48, 66, 78, 899}"
      ]
     },
     "execution_count": 19,
     "metadata": {},
     "output_type": "execute_result"
    }
   ],
   "source": [
    "h.symmetric_difference(g) #find out the symmetric difference"
   ]
  },
  {
   "cell_type": "code",
   "execution_count": 20,
   "id": "0f33dd64",
   "metadata": {},
   "outputs": [
    {
     "data": {
      "text/plain": [
       "tuple"
      ]
     },
     "execution_count": 20,
     "metadata": {},
     "output_type": "execute_result"
    }
   ],
   "source": [
    "a=(50,70,80,90)\n",
    "a\n",
    "type(a)"
   ]
  },
  {
   "cell_type": "code",
   "execution_count": 21,
   "id": "5ff6307c",
   "metadata": {},
   "outputs": [],
   "source": [
    "d=list(a)   #we could not directly add the elements directly so firstly we need to convert it into lists anthen we can modify them "
   ]
  },
  {
   "cell_type": "code",
   "execution_count": 22,
   "id": "33d4467d",
   "metadata": {},
   "outputs": [
    {
     "data": {
      "text/plain": [
       "[50, 70, 80, 90]"
      ]
     },
     "execution_count": 22,
     "metadata": {},
     "output_type": "execute_result"
    }
   ],
   "source": [
    "d"
   ]
  },
  {
   "cell_type": "code",
   "execution_count": 23,
   "id": "b4faa987",
   "metadata": {},
   "outputs": [],
   "source": [
    "d.append(60) #appending elements"
   ]
  },
  {
   "cell_type": "code",
   "execution_count": 24,
   "id": "b66aeb7f",
   "metadata": {},
   "outputs": [
    {
     "data": {
      "text/plain": [
       "[50, 70, 80, 90, 60]"
      ]
     },
     "execution_count": 24,
     "metadata": {},
     "output_type": "execute_result"
    }
   ],
   "source": [
    "d"
   ]
  },
  {
   "cell_type": "code",
   "execution_count": 25,
   "id": "081eaa35",
   "metadata": {},
   "outputs": [],
   "source": [
    "a=tuple(d)   #again convert the list into the tuplee"
   ]
  },
  {
   "cell_type": "code",
   "execution_count": 26,
   "id": "3e626e7b",
   "metadata": {},
   "outputs": [
    {
     "data": {
      "text/plain": [
       "(50, 70, 80, 90, 60)"
      ]
     },
     "execution_count": 26,
     "metadata": {},
     "output_type": "execute_result"
    }
   ],
   "source": [
    "a"
   ]
  },
  {
   "cell_type": "code",
   "execution_count": 27,
   "id": "8e61dd46",
   "metadata": {},
   "outputs": [
    {
     "name": "stdin",
     "output_type": "stream",
     "text": [
      "Enter mark 1:  90\n",
      "Enter mark 2:  80\n",
      "Enter mark 3:  70\n"
     ]
    },
    {
     "name": "stdout",
     "output_type": "stream",
     "text": [
      "The average is :  80.0\n",
      "Grade: Fail\n"
     ]
    }
   ],
   "source": [
    "a=int(input(\"Enter mark 1: \"))    \n",
    "b=int(input(\"Enter mark 2: \"))    \n",
    "c=int(input(\"Enter mark 3: \"))    \n",
    "average=((a+b+c)/3)\n",
    "print(\"The average is : \",average)\n",
    "if(average>=90):\n",
    "    print(\"Grade:A\")\n",
    "elif(80>= average >= 89):\n",
    "    print(\"Grade:B\")\n",
    "elif(70>= average >= 79):\n",
    "    print(\"Grade:C\")\n",
    "else:\n",
    "    print(\"Grade: Fail\")\n"
   ]
  }
 ],
 "metadata": {
  "kernelspec": {
   "display_name": "Python 3 (ipykernel)",
   "language": "python",
   "name": "python3"
  },
  "language_info": {
   "codemirror_mode": {
    "name": "ipython",
    "version": 3
   },
   "file_extension": ".py",
   "mimetype": "text/x-python",
   "name": "python",
   "nbconvert_exporter": "python",
   "pygments_lexer": "ipython3",
   "version": "3.12.7"
  }
 },
 "nbformat": 4,
 "nbformat_minor": 5
}

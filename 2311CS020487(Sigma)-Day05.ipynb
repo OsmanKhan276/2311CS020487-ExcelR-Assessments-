{
 "cells": [
  {
   "cell_type": "code",
   "execution_count": 1,
   "id": "8982be21-9532-42d9-bd22-7875eb0735fe",
   "metadata": {},
   "outputs": [
    {
     "name": "stdin",
     "output_type": "stream",
     "text": [
      "Enter a positive integer:  5\n"
     ]
    },
    {
     "name": "stdout",
     "output_type": "stream",
     "text": [
      "\n",
      "Numbers from 1 to 5 using a for loop:\n",
      "1\n",
      "2\n",
      "3\n",
      "4\n",
      "5\n",
      "\n",
      "Sum of numbers from 1 to 5 using a while loop: 15\n"
     ]
    }
   ],
   "source": [
    "#1)Write a Python program that performs the following tasks:\n",
    "#1. Ask the user to enter a positive integer `n`.\n",
    "#2. Use a `for` loop to print all numbers from `1` to `n` on separate lines.\n",
    "#3. Use a `while` loop to calculate the sum of all numbers from `1` to `n` and print the result.\n",
    "\n",
    "n = int(input(\"Enter a positive integer: \"))\n",
    "\n",
    "print(\"\\nNumbers from 1 to\", n, \"using a for loop:\")\n",
    "for i in range(1, n + 1):\n",
    "    print(i)\n",
    "\n",
    "sum_of_numbers = 0\n",
    "i = 1\n",
    "while i <= n:\n",
    "    sum_of_numbers += i\n",
    "    i += 1\n",
    "\n",
    "print(\"\\nSum of numbers from 1 to\", n, \"using a while loop:\", sum_of_numbers)\n"
   ]
  },
  {
   "cell_type": "code",
   "execution_count": 2,
   "id": "fea4269d-9817-412f-84a8-9d86ee86a2a4",
   "metadata": {},
   "outputs": [
    {
     "name": "stdin",
     "output_type": "stream",
     "text": [
      "Enter a positive integer:  5\n"
     ]
    },
    {
     "name": "stdout",
     "output_type": "stream",
     "text": [
      "The square of 5 is: 25\n"
     ]
    }
   ],
   "source": [
    "#2)Write a Python program that includes a user-defined function to perform the following tasks:\n",
    "#1. Define a function named calculate_square that takes a single argument `n` and returns the square of `n`.\n",
    "#2. In the main program, ask the user to input a positive integer.\n",
    "#3. Call the calculate_square function with the user-provided number and display the result.\n",
    "\n",
    "def calculate_square(n):\n",
    "    return n ** 2\n",
    "\n",
    "n = int(input(\"Enter a positive integer: \"))\n",
    "\n",
    "result = calculate_square(n)\n",
    "print(f\"The square of {n} is: {result}\")\n"
   ]
  },
  {
   "cell_type": "code",
   "execution_count": null,
   "id": "000122a6-b2bb-45d5-99cc-dcd8e9e4a51d",
   "metadata": {},
   "outputs": [],
   "source": []
  }
 ],
 "metadata": {
  "kernelspec": {
   "display_name": "Python 3 (ipykernel)",
   "language": "python",
   "name": "python3"
  },
  "language_info": {
   "codemirror_mode": {
    "name": "ipython",
    "version": 3
   },
   "file_extension": ".py",
   "mimetype": "text/x-python",
   "name": "python",
   "nbconvert_exporter": "python",
   "pygments_lexer": "ipython3",
   "version": "3.12.7"
  }
 },
 "nbformat": 4,
 "nbformat_minor": 5
}
